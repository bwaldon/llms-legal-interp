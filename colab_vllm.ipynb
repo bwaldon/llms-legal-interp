{
  "cells": [
    {
      "cell_type": "markdown",
      "metadata": {
        "id": "FZTsceX6b5lN"
      },
      "source": [
        "# VLLM Inference with Ministral-Instruct\n",
        "\n"
      ]
    },
    {
      "cell_type": "code",
      "execution_count": null,
      "metadata": {
        "id": "IAHlHbVJb5lP"
      },
      "outputs": [],
      "source": [
        "%%capture\n",
        "!pip install vllm"
      ]
    },
    {
      "cell_type": "code",
      "execution_count": null,
      "metadata": {
        "id": "w6A0vkOQb5lQ"
      },
      "outputs": [],
      "source": [
        "from huggingface_hub import login\n",
        "from google.colab import userdata\n",
        "import os\n",
        "\n",
        "login(token=userdata.get('HF_TOKEN'))\n",
        "\n",
        "os.environ['HF_HOME'] = '~/.cache/huggingface/hub/'"
      ]
    },
    {
      "cell_type": "markdown",
      "metadata": {
        "id": "nHMs8F2ab5lR"
      },
      "source": [
        "## Initialize VLLM and Run Inference"
      ]
    },
    {
      "cell_type": "code",
      "execution_count": null,
      "metadata": {
        "id": "VvClGNgib5lR",
        "colab": {
          "base_uri": "https://localhost:8080/",
          "height": 501,
          "referenced_widgets": [
            "c3b61657b2094a2596159880c49665d6",
            "3595d6ee8a1f4e22be5fc791acd76640",
            "dcc17cb39a4b4f148d3b194261db18af",
            "1dbfc0f7d4474b0b93b81f0f7d06a13c",
            "6088b61c9dd04cf9921e9c13662f6cb9",
            "f41e0c1e47ce4d678a31143fceed377a",
            "160dd45ddb914ea2a5b7a55d0ac48f69",
            "5d4e3a0a18d346a99b5603ec6fe03f61",
            "6ffd6da02cfb4fc7af949eb8085d3b0b",
            "9acf3833d7da4ebaa7237fd8ebb414ef",
            "71e3a234329d4ca99354de133785be1a",
            "e0f466cf904e42d89e11ab132b498821",
            "dd04f9a2edeb45de870669962f05b79c",
            "e188fb534f864f2f8618a2b95626d427",
            "e837926205a84ed6b75a16d62ca8832e",
            "618a9726c24545e492b36f5f8f3ceae0",
            "a9ecc262063e448fb5899aacfce2625c",
            "f5bae621775141df881861978d385d83",
            "05d56d6782e548afa1cea14d60cf5c92",
            "cabfa24aa1a441c3a71a965a179c2fad",
            "3299c14106564d71b9af6a582aaa36ab",
            "dc1255196e554ff1b2682bd3bfbaa7fb",
            "8c786d18dd6746ab842c5cc0c1f32139",
            "447d66d00fd744178259f6cabc62fdf9",
            "d88eda5f69b5442caae4afcf8a03409c",
            "cdef6210b87c4ee09c9a0f52958f5ee3",
            "759d7ca3c7614fbda67e08cae55a79f0",
            "64fe7b3a691d43a1b8580a160afece8f",
            "5f9c23213db4404ba7fd0069d666293c",
            "46e41543cfef4b12a995ab3f71007724",
            "b12471ce275a4d6998e4f2e08b1eda38",
            "221a20c1bc244f14bb1b563688830621",
            "d091bda62b7c4b0fae5ad1849709ca83",
            "780b670432f4404caf4e4ec7a241e699",
            "7f3fd992f16e47068a8281b277779318",
            "746cfffde0724ac79c09a87b7be0b2f1",
            "90e9086736a644b3b2f0c2393eba73ed",
            "6db4b20fa1a04e1e90f7282779d94ba6",
            "148f6ad584484ebf8f33a22bbde17661",
            "0f856e92f65748c2892858cc6bc29a0d",
            "0af305408700443e8cb265fa09394989",
            "a8027d5e0bd94998846b8e7dbb477a23",
            "2bebd3b3efdf4408bb10e4b1122baa7b",
            "91ae5c8b93ab4d52b643136979acfccf",
            "bffb4d1bb9d04f6887019ac68f2d659c",
            "44b144e97dcd4ab1b797a3502aa88eef",
            "d39971ce2abd4492a9cdf39cd0b6176e",
            "41a8eaf361314c359fa077b7a38e9efd",
            "a144d47086064dab974195aec05bd25c",
            "f40e344d0eec4e8b9014daa277a913a6",
            "1c40b0b5c565442a9251355b34fd0d64",
            "31ec0ad2aee84771b07134a835d5f6da",
            "51ca14215b594b8cbd8a555db56fa8f7",
            "19e6d966ebc24d6595d74d196ed67f90",
            "d4db4e3c252342f7a361614b39ffbde4"
          ]
        },
        "outputId": "b01f438a-3441-4968-faee-0fb2ecbf3e7b"
      },
      "outputs": [
        {
          "output_type": "display_data",
          "data": {
            "text/plain": [
              "params.json:   0%|          | 0.00/257 [00:00<?, ?B/s]"
            ],
            "application/vnd.jupyter.widget-view+json": {
              "version_major": 2,
              "version_minor": 0,
              "model_id": "c3b61657b2094a2596159880c49665d6"
            }
          },
          "metadata": {}
        },
        {
          "output_type": "stream",
          "name": "stdout",
          "text": [
            "INFO 01-08 18:17:24 config.py:2272] Downcasting torch.float32 to torch.float16.\n",
            "INFO 01-08 18:17:36 config.py:510] This model supports multiple tasks: {'classify', 'score', 'reward', 'generate', 'embed'}. Defaulting to 'generate'.\n",
            "INFO 01-08 18:17:36 llm_engine.py:234] Initializing an LLM engine (v0.6.6.post1) with config: model='mistralai/Ministral-8B-Instruct-2410', speculative_config=None, tokenizer='mistralai/Ministral-8B-Instruct-2410', skip_tokenizer_init=False, tokenizer_mode=mistral, revision=None, override_neuron_config=None, tokenizer_revision=None, trust_remote_code=False, dtype=torch.float16, max_seq_len=20000, download_dir=None, load_format=mistral, tensor_parallel_size=1, pipeline_parallel_size=1, disable_custom_all_reduce=False, quantization=None, enforce_eager=False, kv_cache_dtype=auto, quantization_param_path=None, device_config=cuda, decoding_config=DecodingConfig(guided_decoding_backend='xgrammar'), observability_config=ObservabilityConfig(otlp_traces_endpoint=None, collect_model_forward_time=False, collect_model_execute_time=False), seed=0, served_model_name=mistralai/Ministral-8B-Instruct-2410, num_scheduler_steps=1, multi_step_stream_outputs=True, enable_prefix_caching=False, chunked_prefill_enabled=False, use_async_output_proc=True, disable_mm_preprocessor_cache=False, mm_processor_kwargs=None, pooler_config=None, compilation_config={\"splitting_ops\":[\"vllm.unified_attention\",\"vllm.unified_attention_with_output\"],\"candidate_compile_sizes\":[],\"compile_sizes\":[],\"capture_sizes\":[256,248,240,232,224,216,208,200,192,184,176,168,160,152,144,136,128,120,112,104,96,88,80,72,64,56,48,40,32,24,16,8,4,2,1],\"max_capture_size\":256}, use_cached_outputs=False, \n"
          ]
        },
        {
          "output_type": "display_data",
          "data": {
            "text/plain": [
              "tekken.json:   0%|          | 0.00/14.8M [00:00<?, ?B/s]"
            ],
            "application/vnd.jupyter.widget-view+json": {
              "version_major": 2,
              "version_minor": 0,
              "model_id": "e0f466cf904e42d89e11ab132b498821"
            }
          },
          "metadata": {}
        },
        {
          "output_type": "display_data",
          "data": {
            "text/plain": [
              "generation_config.json:   0%|          | 0.00/116 [00:00<?, ?B/s]"
            ],
            "application/vnd.jupyter.widget-view+json": {
              "version_major": 2,
              "version_minor": 0,
              "model_id": "8c786d18dd6746ab842c5cc0c1f32139"
            }
          },
          "metadata": {}
        },
        {
          "output_type": "stream",
          "name": "stdout",
          "text": [
            "INFO 01-08 18:17:40 selector.py:120] Using Flash Attention backend.\n",
            "INFO 01-08 18:17:41 model_runner.py:1094] Starting to load model mistralai/Ministral-8B-Instruct-2410...\n",
            "INFO 01-08 18:17:42 weight_utils.py:251] Using model weights format ['consolidated*.safetensors', '*.pt']\n"
          ]
        },
        {
          "output_type": "display_data",
          "data": {
            "text/plain": [
              "consolidated.safetensors:   0%|          | 0.00/16.0G [00:00<?, ?B/s]"
            ],
            "application/vnd.jupyter.widget-view+json": {
              "version_major": 2,
              "version_minor": 0,
              "model_id": "780b670432f4404caf4e4ec7a241e699"
            }
          },
          "metadata": {}
        },
        {
          "output_type": "stream",
          "name": "stdout",
          "text": [
            "INFO 01-08 18:24:22 weight_utils.py:296] No consolidated.safetensors.index.json found in remote.\n"
          ]
        },
        {
          "output_type": "display_data",
          "data": {
            "text/plain": [
              "Loading safetensors checkpoint shards:   0% Completed | 0/1 [00:00<?, ?it/s]\n"
            ],
            "application/vnd.jupyter.widget-view+json": {
              "version_major": 2,
              "version_minor": 0,
              "model_id": "bffb4d1bb9d04f6887019ac68f2d659c"
            }
          },
          "metadata": {}
        },
        {
          "output_type": "stream",
          "name": "stdout",
          "text": [
            "INFO 01-08 18:24:31 model_runner.py:1099] Loading model weights took 14.9693 GB\n",
            "INFO 01-08 18:24:37 worker.py:241] Memory profiling takes 5.64 seconds\n",
            "INFO 01-08 18:24:37 worker.py:241] the current vLLM instance can use total_gpu_memory (22.17GiB) x gpu_memory_utilization (0.90) = 19.95GiB\n",
            "INFO 01-08 18:24:37 worker.py:241] model weights take 14.97GiB; non_torch_memory takes 0.05GiB; PyTorch activation peak memory takes 1.84GiB; the rest of the memory reserved for KV Cache is 3.09GiB.\n",
            "INFO 01-08 18:24:37 gpu_executor.py:76] # GPU blocks: 1405, # CPU blocks: 1820\n",
            "INFO 01-08 18:24:37 gpu_executor.py:80] Maximum concurrency for 20000 tokens per request: 1.12x\n",
            "INFO 01-08 18:24:39 model_runner.py:1415] Capturing cudagraphs for decoding. This may lead to unexpected consequences if the model is not static. To run the model in eager mode, set 'enforce_eager=True' or use '--enforce-eager' in the CLI. If out-of-memory error occurs during cudagraph capture, consider decreasing `gpu_memory_utilization` or switching to eager mode. You can also reduce the `max_num_seqs` as needed to decrease memory usage.\n"
          ]
        },
        {
          "output_type": "stream",
          "name": "stderr",
          "text": [
            "Capturing CUDA graph shapes: 100%|██████████| 35/35 [00:30<00:00,  1.14it/s]"
          ]
        },
        {
          "output_type": "stream",
          "name": "stdout",
          "text": [
            "INFO 01-08 18:25:10 model_runner.py:1535] Graph capturing finished in 31 secs, took 0.91 GiB\n",
            "INFO 01-08 18:25:10 llm_engine.py:431] init engine (profile, create kv cache, warmup model) took 39.10 seconds\n"
          ]
        },
        {
          "output_type": "stream",
          "name": "stderr",
          "text": [
            "\n"
          ]
        }
      ],
      "source": [
        "from vllm import LLM\n",
        "from vllm.sampling_params import SamplingParams\n",
        "\n",
        "model_name = \"mistralai/Ministral-8B-Instruct-2410\"\n",
        "\n",
        "sampling_params = SamplingParams(\n",
        "    max_tokens=8192,\n",
        "    temperature=0.1,\n",
        "    seed=42\n",
        ")\n",
        "\n",
        "llm = LLM(\n",
        "    model=model_name,\n",
        "    tokenizer_mode=\"mistral\",\n",
        "    config_format=\"mistral\",\n",
        "    load_format=\"mistral\",\n",
        "    gpu_memory_utilization = 0.9,\n",
        "    max_model_len = 20000\n",
        ")"
      ]
    },
    {
      "cell_type": "code",
      "execution_count": null,
      "metadata": {
        "id": "cH3GxNVvb5lS"
      },
      "outputs": [],
      "source": [
        "def generate_response(prompt):\n",
        "    messages = [\n",
        "        {\n",
        "            \"role\": \"user\",\n",
        "            \"content\": prompt\n",
        "        }\n",
        "    ]\n",
        "\n",
        "    outputs = llm.chat(messages, sampling_params=sampling_params)\n",
        "    return outputs[0].outputs[0].text"
      ]
    },
    {
      "cell_type": "code",
      "source": [
        "prompt = 'What is the ordinary meaning of \"landscaping\"?'\n",
        "response = generate_response(prompt)\n",
        "print(\"\\n \\n\", prompt, \"\\n \\nModel Response: \\n \\n\", response)"
      ],
      "metadata": {
        "id": "x2BaqOjvdpHi",
        "colab": {
          "base_uri": "https://localhost:8080/"
        },
        "outputId": "4a6709ec-bfa5-49f7-c8c5-5d75018c683c"
      },
      "execution_count": null,
      "outputs": [
        {
          "output_type": "stream",
          "name": "stdout",
          "text": [
            "INFO 12-23 18:52:21 chat_utils.py:333] Detected the chat template content format to be 'string'. You can set `--chat-template-content-format` to override this.\n",
            "WARNING 12-23 18:52:21 chat_utils.py:1006] 'add_generation_prompt' is not supported for mistral tokenizer, so it will be ignored.\n",
            "WARNING 12-23 18:52:21 chat_utils.py:1010] 'continue_final_message' is not supported for mistral tokenizer, so it will be ignored.\n"
          ]
        },
        {
          "output_type": "stream",
          "name": "stderr",
          "text": [
            "Processed prompts: 100%|██████████| 1/1 [00:18<00:00, 18.65s/it, est. speed input: 0.75 toks/s, output: 16.30 toks/s]"
          ]
        },
        {
          "output_type": "stream",
          "name": "stdout",
          "text": [
            "\n",
            " \n",
            " What is the ordinary meaning of \"landscaping\"? \n",
            " \n",
            "Model Response: \n",
            " \n",
            " The ordinary meaning of \"landscaping\" refers to the art and practice of designing and creating outdoor spaces, such as gardens, parks, and other green areas. The term encompasses a wide range of activities, including:\n",
            "\n",
            "1. **Planting and Arranging Plants**: This involves selecting and placing trees, shrubs, flowers, and other vegetation to create a visually appealing and functional landscape.\n",
            "\n",
            "2. **Designing Layouts**: Landscapers often create detailed plans that include the placement of plants, hardscaping elements (like paths, patios, and fountains), and other features to enhance the overall aesthetic and usability of the space.\n",
            "\n",
            "3. **Maintaining and Pruning**: Regular care is essential to keep the landscape looking its best, which includes pruning plants, removing weeds, and ensuring that the plants receive adequate water and nutrients.\n",
            "\n",
            "4. **Installing Hardscaping**: This includes the addition of structures such as walkways, retaining walls, fences, and outdoor lighting to complement the natural elements.\n",
            "\n",
            "5. **Irrigation Systems**: Landscapers may also install and maintain irrigation systems to ensure that plants receive the right amount of water.\n",
            "\n",
            "6. **Soil Preparation**: This involves preparing the soil to ensure it is suitable for the plants being installed, which may include adding fertilizers, compost, or other amendments.\n",
            "\n",
            "In essence, landscaping is about transforming outdoor spaces into beautiful, functional, and harmonious environments that enhance the aesthetic appeal and usability of a property.\n"
          ]
        },
        {
          "output_type": "stream",
          "name": "stderr",
          "text": [
            "\n"
          ]
        }
      ]
    },
    {
      "cell_type": "code",
      "source": [
        "prompt = 'Is installing an in-ground trampoline \"landscaping\"?'\n",
        "response = generate_response(prompt)\n",
        "print(\"\\n \\n\", prompt, \"\\n \\nModel Response: \\n \\n\", response)"
      ],
      "metadata": {
        "colab": {
          "base_uri": "https://localhost:8080/"
        },
        "id": "6LSLwTFlvCKj",
        "outputId": "d3843da4-c6c9-4228-d4e6-4a8116511644"
      },
      "execution_count": null,
      "outputs": [
        {
          "output_type": "stream",
          "name": "stderr",
          "text": [
            "Processed prompts: 100%|██████████| 1/1 [00:13<00:00, 13.35s/it, est. speed input: 1.20 toks/s, output: 16.33 toks/s]"
          ]
        },
        {
          "output_type": "stream",
          "name": "stdout",
          "text": [
            "\n",
            " \n",
            " Is installing an in-ground trampoline \"landscaping\"? \n",
            " \n",
            "Model Response: \n",
            " \n",
            " Installing an in-ground trampoline can be considered a form of landscaping, but it's more accurately described as a specific type of hardscaping. Here's why:\n",
            "\n",
            "1. **Landscaping**: This term generally refers to the art and practice of designing and maintaining outdoor spaces, including plants, trees, and other natural elements. It can also include hardscaping elements like patios, walkways, and retaining walls.\n",
            "\n",
            "2. **Hardscaping**: This is a subset of landscaping that involves the use of non-living elements like stone, brick, concrete, and metal. An in-ground trampoline fits into this category because it's a non-living structure that's installed into the ground.\n",
            "\n",
            "So, while installing an in-ground trampoline is a landscaping project, it's more specifically a hardscaping project. It's important to note that this type of installation can have significant impacts on your yard, so it's often recommended to consult with a professional landscaper or hardscaping specialist before proceeding.\n"
          ]
        },
        {
          "output_type": "stream",
          "name": "stderr",
          "text": [
            "\n"
          ]
        }
      ]
    },
    {
      "cell_type": "code",
      "source": [
        "prompt = 'What is the ordinary meaning of \"physically restrained\"?'\n",
        "response = generate_response(prompt)\n",
        "print(\"\\n \\n\", prompt, \"\\n \\nModel Response: \\n \\n\", response)"
      ],
      "metadata": {
        "colab": {
          "base_uri": "https://localhost:8080/"
        },
        "id": "RQ4nrMv6wUsT",
        "outputId": "54b7d811-29b0-4bcf-a269-b374d5a8f05e"
      },
      "execution_count": null,
      "outputs": [
        {
          "output_type": "stream",
          "name": "stderr",
          "text": [
            "Processed prompts: 100%|██████████| 1/1 [00:05<00:00,  5.24s/it, est. speed input: 2.67 toks/s, output: 16.23 toks/s]"
          ]
        },
        {
          "output_type": "stream",
          "name": "stdout",
          "text": [
            "\n",
            " \n",
            " What is the ordinary meaning of \"physically restrained\"? \n",
            " \n",
            "Model Response: \n",
            " \n",
            " \"Physically restrained\" means to be held back or prevented from moving by physical force or means. This can include being held by someone else, being tied up, or being confined in a way that limits your ability to move freely. It's often used in contexts where someone is being controlled or prevented from doing something, such as in law enforcement, medical settings, or in situations where someone might harm themselves or others.\n"
          ]
        },
        {
          "output_type": "stream",
          "name": "stderr",
          "text": [
            "\n"
          ]
        }
      ]
    },
    {
      "cell_type": "code",
      "source": [
        "prompt = 'Is installing an in-ground trampoline \"landscaping\"? If not, what would you call it?'\n",
        "response = generate_response(prompt)\n",
        "print(\"\\n \\n\", prompt, \"\\n \\nModel Response: \\n \\n\", response)"
      ],
      "metadata": {
        "colab": {
          "base_uri": "https://localhost:8080/"
        },
        "id": "PGefc72gxaYq",
        "outputId": "e2af0640-1b2f-4319-a9cb-0bd071d5fd59"
      },
      "execution_count": null,
      "outputs": [
        {
          "output_type": "stream",
          "name": "stderr",
          "text": [
            "Processed prompts: 100%|██████████| 1/1 [00:17<00:00, 17.01s/it, est. speed input: 1.47 toks/s, output: 16.34 toks/s]"
          ]
        },
        {
          "output_type": "stream",
          "name": "stdout",
          "text": [
            "\n",
            " \n",
            " Is installing an in-ground trampoline \"landscaping\"? If not, what would you call it? \n",
            " \n",
            "Model Response: \n",
            " \n",
            " Installing an in-ground trampoline is not typically considered \"landscaping\" in the traditional sense. Landscaping generally refers to the design and maintenance of outdoor spaces, including plants, trees, flowers, hardscaping (like patios, walkways, and retaining walls), and other elements that enhance the aesthetic and functionality of a yard or garden.\n",
            "\n",
            "An in-ground trampoline, while it does involve some groundwork and may require excavation, is more accurately categorized as a recreational or outdoor structure installation. It's often considered a part of backyard play areas or recreational facilities rather than traditional landscaping. Here are a few terms that might be more appropriate:\n",
            "\n",
            "1. **Backyard Installation**: This term emphasizes that the trampoline is being installed in a backyard setting.\n",
            "2. **Recreational Structure Installation**: This term highlights the recreational nature of the trampoline.\n",
            "3. **Outdoor Play Area Development**: This term suggests that the trampoline is part of a larger effort to create a fun and safe play area.\n",
            "4. **Groundwork or Site Preparation**: These terms focus on the physical work involved in preparing the site for the trampoline, such as excavation and leveling.\n",
            "\n",
            "While these terms don't capture the full scope of the project, they provide a more accurate description of the process involved in installing an in-ground trampoline.\n"
          ]
        },
        {
          "output_type": "stream",
          "name": "stderr",
          "text": [
            "\n"
          ]
        }
      ]
    },
    {
      "cell_type": "code",
      "source": [
        "prompt = 'In ordinary English, what kinds of meanings are associated with the phrase \"physically restrained\"?'\n",
        "response = generate_response(prompt)\n",
        "print(\"\\n \\n\", prompt, \"\\n \\nModel Response: \\n \\n\", response)"
      ],
      "metadata": {
        "colab": {
          "base_uri": "https://localhost:8080/"
        },
        "id": "BQ6MOMsR4XG2",
        "outputId": "5fcbf1d4-e630-4eab-fac6-3a10b875dec0"
      },
      "execution_count": null,
      "outputs": [
        {
          "output_type": "stream",
          "name": "stderr",
          "text": [
            "\n",
            "Processed prompts:   0%|          | 0/1 [00:00<?, ?it/s, est. speed input: 0.00 toks/s, output: 0.00 toks/s]\u001b[A\n",
            "Processed prompts: 100%|██████████| 1/1 [00:18<00:00, 18.25s/it, est. speed input: 1.15 toks/s, output: 16.33 toks/s]"
          ]
        },
        {
          "output_type": "stream",
          "name": "stdout",
          "text": [
            "\n",
            " \n",
            " In ordinary English, what kinds of meanings are associated with the phrase \"physically restrained\"? \n",
            " \n",
            "Model Response: \n",
            " \n",
            " The phrase \"physically restrained\" typically refers to the act of being held back or prevented from moving by physical means. Here are some common meanings associated with this phrase:\n",
            "\n",
            "1. **Being Held Back**: Someone is physically restrained when they are held in place, often by another person or a device, to prevent them from moving freely.\n",
            "\n",
            "2. **Controlled Movement**: It can also mean that a person's movements are controlled or limited, such as when someone is handcuffed, tied up, or placed in a straitjacket.\n",
            "\n",
            "3. **Preventing Harm**: In some contexts, physical restraint is used to prevent harm to the person being restrained or to others, such as in situations involving mental health crises or dangerous behavior.\n",
            "\n",
            "4. **Legal or Medical Contexts**: In legal or medical settings, physical restraint might refer to the use of force or devices to control a person's movements, often as a last resort when other methods have failed.\n",
            "\n",
            "5. **Sports or Games**: In sports or games, physical restraint might refer to rules or actions that limit a player's movement or actions, such as tackling in football or tagging in a game of tag.\n",
            "\n",
            "6. **Emotional or Psychological Context**: In a broader sense, it can also refer to feelings of being held back or controlled, not just physically, but also emotionally or psychologically.\n",
            "\n",
            "In all these contexts, the key idea is that the person's physical freedom is being limited or controlled.\n"
          ]
        },
        {
          "output_type": "stream",
          "name": "stderr",
          "text": [
            "\n"
          ]
        }
      ]
    },
    {
      "cell_type": "code",
      "source": [
        "prompt =  \"\"\"What is the strongest argument for the following claim about English?\n",
        "\n",
        "\"The phrase 'physically restrained' requires the application of tangible force upon the restrained entity, either through direct bodily contact or some other device or instrument.\"\n",
        "\n",
        "Focus only on how ordinary English speakers understand and use the phrase \"physically restrained\".\"\"\"\n",
        "response = generate_response(prompt)\n",
        "print(\"\\n \\n\", prompt, \"\\n \\nModel Response: \\n \\n\", response)"
      ],
      "metadata": {
        "colab": {
          "base_uri": "https://localhost:8080/"
        },
        "id": "6E4UoGzKueKS",
        "outputId": "5c5c212d-a703-47e3-c553-b737d6caee0c"
      },
      "execution_count": null,
      "outputs": [
        {
          "output_type": "stream",
          "name": "stderr",
          "text": [
            "Processed prompts: 100%|██████████| 1/1 [00:27<00:00, 27.84s/it, est. speed input: 2.23 toks/s, output: 16.20 toks/s]"
          ]
        },
        {
          "output_type": "stream",
          "name": "stdout",
          "text": [
            "\n",
            " \n",
            " What is the strongest argument for the following claim about English?\n",
            "\n",
            "\"The phrase 'physically restrained' requires the application of tangible force upon the restrained entity, either through direct bodily contact or some other device or instrument.\"\n",
            "\n",
            "Focus only on how ordinary English speakers understand and use the phrase \"physically restrained\". \n",
            " \n",
            "Model Response: \n",
            " \n",
            " The strongest argument for the claim that the phrase \"physically restrained\" requires the application of tangible force upon the restrained entity is based on the ordinary usage and understanding of the phrase by English speakers. Here are several points that support this argument:\n",
            "\n",
            "1. **Common Usage**: In everyday language, \"physically restrained\" is typically used to describe situations where someone is held back or prevented from moving by some form of physical contact or barrier. For example, \"The police physically restrained the protester\" implies that the police used physical force to prevent the protester from moving.\n",
            "\n",
            "2. **Dictionary Definitions**: Major dictionaries define \"restrain\" in terms of physical force. For instance, the Merriam-Webster dictionary defines \"restrain\" as \"to hold back or prevent from moving or acting by physical force or influence.\" This definition aligns with the idea that physical restraint involves tangible force.\n",
            "\n",
            "3. **Legal Context**: In legal contexts, \"physical restraint\" is often used to describe situations where someone is held back by physical means, such as being handcuffed, held down, or prevented from moving by a physical barrier. This usage further supports the claim that physical force is required.\n",
            "\n",
            "4. **Contrast with Other Forms of Restraint**: The phrase \"physically restrained\" is often contrasted with other forms of restraint, such as \"psychological restraint\" or \"verbal restraint.\" These contrasts imply that \"physical restraint\" specifically involves tangible force.\n",
            "\n",
            "5. **Contextual Clues**: In most contexts where \"physically restrained\" is used, it is clear that some form of physical force is involved. For example, in a news report about a riot, the phrase \"police physically restrained the crowd\" would not make sense if it meant that the police merely talked the crowd into dispersing.\n",
            "\n",
            "6. **Lack of Alternative Interpretations**: There is no widely accepted alternative interpretation of \"physically restrained\" that does not involve tangible force. If the phrase were to mean something else, it would be unusual and likely to cause confusion.\n",
            "\n",
            "These points collectively provide a strong argument that ordinary English speakers understand and use the phrase \"physically restrained\" to mean that tangible force is applied to restrain the entity.\n"
          ]
        },
        {
          "output_type": "stream",
          "name": "stderr",
          "text": [
            "\n"
          ]
        }
      ]
    },
    {
      "cell_type": "code",
      "source": [
        "counterarg_dialog = [\n",
        "    {\n",
        "        \"role\": \"user\",\n",
        "        \"content\":\"\"\"What is the strongest argument against the following claim about English?\n",
        "\n",
        "\"The phrase 'physically restrained' requires the application of tangible force upon the restrained entity, either through direct bodily contact or some other device or instrument.\"\n",
        "\n",
        "Focus only on how ordinary English speakers understand and use the phrase \"physically restrained\".\"\"\"\n",
        "    }\n",
        "]\n",
        "resp = llm.chat(counterarg_dialog, sampling_params=sampling_params)[0].outputs[0].text\n",
        "print(resp)"
      ],
      "metadata": {
        "colab": {
          "base_uri": "https://localhost:8080/"
        },
        "id": "5hBKpeZpy88v",
        "outputId": "376ecf60-d76e-464f-8271-79c3143f7ae3"
      },
      "execution_count": null,
      "outputs": [
        {
          "output_type": "stream",
          "name": "stderr",
          "text": [
            "Processed prompts: 100%|██████████| 1/1 [00:17<00:00, 17.34s/it, est. speed input: 3.58 toks/s, output: 16.21 toks/s]"
          ]
        },
        {
          "output_type": "stream",
          "name": "stdout",
          "text": [
            "The strongest argument against the claim that \"physically restrained\" requires the application of tangible force upon the restrained entity is that ordinary English speakers often use the phrase in a broader sense that does not necessarily imply the use of force or physical contact.\n",
            "\n",
            "For example, consider the following scenarios:\n",
            "\n",
            "1. **Non-physical restraint**: A person might be \"physically restrained\" by being confined to a room without the use of physical force. For instance, a child might be \"physically restrained\" by being told to stay in their room as a punishment.\n",
            "\n",
            "2. **Implied restraint**: In some contexts, \"physically restrained\" can imply a situation where someone is prevented from moving or acting freely, even if no physical force is applied. For example, a person might be \"physically restrained\" by being in a situation where they feel they cannot leave or act freely, such as being in a crowded room or being held back by social norms.\n",
            "\n",
            "3. **Metaphorical use**: The phrase can also be used metaphorically. For instance, a person might say that their emotions are \"physically restrained\" when they feel they cannot express them freely.\n",
            "\n",
            "These examples show that ordinary English speakers often understand and use the phrase \"physically restrained\" in a way that does not strictly require the application of tangible force. Therefore, the claim that it always requires such force is not accurate.\n"
          ]
        },
        {
          "output_type": "stream",
          "name": "stderr",
          "text": [
            "\n"
          ]
        }
      ]
    },
    {
      "cell_type": "code",
      "source": [
        "counterarg_dialog.append({\n",
        "    \"role\": \"assistant\",\n",
        "    \"content\": resp\n",
        "})\n",
        "counterarg_dialog.append({\n",
        "    \"role\": \"user\",\n",
        "    \"content\": \"\"\"Now, provide a better description of the phrase's meaning, consistent with your examples (1) and (2). Ignore the metaphorical use in (3). Your answer should start: \"The phrase \"physically restrained\" requires...\" \"\"\"\n",
        "})\n",
        "resp2 = llm.chat(counterarg_dialog, sampling_params=sampling_params)[0].outputs[0].text\n",
        "print(resp2)"
      ],
      "metadata": {
        "colab": {
          "base_uri": "https://localhost:8080/"
        },
        "id": "77Hu1_vZvOqq",
        "outputId": "7fd4ec80-5343-4f1d-d0e6-52a6280f72ca"
      },
      "execution_count": null,
      "outputs": [
        {
          "output_type": "stream",
          "name": "stderr",
          "text": [
            "Processed prompts: 100%|██████████| 1/1 [00:07<00:00,  7.98s/it, est. speed input: 170.80 toks/s, output: 15.17 toks/s]"
          ]
        },
        {
          "output_type": "stream",
          "name": "stdout",
          "text": [
            "The phrase \"physically restrained\" requires that a person is prevented from moving or acting freely, either through direct physical contact, the use of a device or instrument, or by being confined to a specific location or situation. This can occur without the application of tangible force, as long as the person is effectively restricted in their movement or actions. For example, a child being told to stay in their room is \"physically restrained\" even if no physical force is used, and a person feeling unable to leave a crowded room due to social norms is also \"physically restrained\" in this broader sense.\n"
          ]
        },
        {
          "output_type": "stream",
          "name": "stderr",
          "text": [
            "\n"
          ]
        }
      ]
    },
    {
      "cell_type": "code",
      "source": [
        "!ls ~/.cache/huggingface/hub/"
      ],
      "metadata": {
        "colab": {
          "base_uri": "https://localhost:8080/"
        },
        "id": "kcwYLl4k6A1O",
        "outputId": "4253efba-1f8b-4720-ce0a-a5c7ad8f97db"
      },
      "execution_count": null,
      "outputs": [
        {
          "output_type": "stream",
          "name": "stdout",
          "text": [
            "models--mistralai--Ministral-8B-Instruct-2410\n"
          ]
        }
      ]
    }
  ],
  "metadata": {
    "accelerator": "GPU",
    "colab": {
      "provenance": [],
      "gpuType": "L4"
    },
    "kernelspec": {
      "display_name": "Python 3",
      "name": "python3"
    },
    "widgets": {
      "application/vnd.jupyter.widget-state+json": {
        "c3b61657b2094a2596159880c49665d6": {
          "model_module": "@jupyter-widgets/controls",
          "model_name": "HBoxModel",
          "model_module_version": "1.5.0",
          "state": {
            "_dom_classes": [],
            "_model_module": "@jupyter-widgets/controls",
            "_model_module_version": "1.5.0",
            "_model_name": "HBoxModel",
            "_view_count": null,
            "_view_module": "@jupyter-widgets/controls",
            "_view_module_version": "1.5.0",
            "_view_name": "HBoxView",
            "box_style": "",
            "children": [
              "IPY_MODEL_3595d6ee8a1f4e22be5fc791acd76640",
              "IPY_MODEL_dcc17cb39a4b4f148d3b194261db18af",
              "IPY_MODEL_1dbfc0f7d4474b0b93b81f0f7d06a13c"
            ],
            "layout": "IPY_MODEL_6088b61c9dd04cf9921e9c13662f6cb9"
          }
        },
        "3595d6ee8a1f4e22be5fc791acd76640": {
          "model_module": "@jupyter-widgets/controls",
          "model_name": "HTMLModel",
          "model_module_version": "1.5.0",
          "state": {
            "_dom_classes": [],
            "_model_module": "@jupyter-widgets/controls",
            "_model_module_version": "1.5.0",
            "_model_name": "HTMLModel",
            "_view_count": null,
            "_view_module": "@jupyter-widgets/controls",
            "_view_module_version": "1.5.0",
            "_view_name": "HTMLView",
            "description": "",
            "description_tooltip": null,
            "layout": "IPY_MODEL_f41e0c1e47ce4d678a31143fceed377a",
            "placeholder": "​",
            "style": "IPY_MODEL_160dd45ddb914ea2a5b7a55d0ac48f69",
            "value": "params.json: 100%"
          }
        },
        "dcc17cb39a4b4f148d3b194261db18af": {
          "model_module": "@jupyter-widgets/controls",
          "model_name": "FloatProgressModel",
          "model_module_version": "1.5.0",
          "state": {
            "_dom_classes": [],
            "_model_module": "@jupyter-widgets/controls",
            "_model_module_version": "1.5.0",
            "_model_name": "FloatProgressModel",
            "_view_count": null,
            "_view_module": "@jupyter-widgets/controls",
            "_view_module_version": "1.5.0",
            "_view_name": "ProgressView",
            "bar_style": "success",
            "description": "",
            "description_tooltip": null,
            "layout": "IPY_MODEL_5d4e3a0a18d346a99b5603ec6fe03f61",
            "max": 257,
            "min": 0,
            "orientation": "horizontal",
            "style": "IPY_MODEL_6ffd6da02cfb4fc7af949eb8085d3b0b",
            "value": 257
          }
        },
        "1dbfc0f7d4474b0b93b81f0f7d06a13c": {
          "model_module": "@jupyter-widgets/controls",
          "model_name": "HTMLModel",
          "model_module_version": "1.5.0",
          "state": {
            "_dom_classes": [],
            "_model_module": "@jupyter-widgets/controls",
            "_model_module_version": "1.5.0",
            "_model_name": "HTMLModel",
            "_view_count": null,
            "_view_module": "@jupyter-widgets/controls",
            "_view_module_version": "1.5.0",
            "_view_name": "HTMLView",
            "description": "",
            "description_tooltip": null,
            "layout": "IPY_MODEL_9acf3833d7da4ebaa7237fd8ebb414ef",
            "placeholder": "​",
            "style": "IPY_MODEL_71e3a234329d4ca99354de133785be1a",
            "value": " 257/257 [00:00&lt;00:00, 18.5kB/s]"
          }
        },
        "6088b61c9dd04cf9921e9c13662f6cb9": {
          "model_module": "@jupyter-widgets/base",
          "model_name": "LayoutModel",
          "model_module_version": "1.2.0",
          "state": {
            "_model_module": "@jupyter-widgets/base",
            "_model_module_version": "1.2.0",
            "_model_name": "LayoutModel",
            "_view_count": null,
            "_view_module": "@jupyter-widgets/base",
            "_view_module_version": "1.2.0",
            "_view_name": "LayoutView",
            "align_content": null,
            "align_items": null,
            "align_self": null,
            "border": null,
            "bottom": null,
            "display": null,
            "flex": null,
            "flex_flow": null,
            "grid_area": null,
            "grid_auto_columns": null,
            "grid_auto_flow": null,
            "grid_auto_rows": null,
            "grid_column": null,
            "grid_gap": null,
            "grid_row": null,
            "grid_template_areas": null,
            "grid_template_columns": null,
            "grid_template_rows": null,
            "height": null,
            "justify_content": null,
            "justify_items": null,
            "left": null,
            "margin": null,
            "max_height": null,
            "max_width": null,
            "min_height": null,
            "min_width": null,
            "object_fit": null,
            "object_position": null,
            "order": null,
            "overflow": null,
            "overflow_x": null,
            "overflow_y": null,
            "padding": null,
            "right": null,
            "top": null,
            "visibility": null,
            "width": null
          }
        },
        "f41e0c1e47ce4d678a31143fceed377a": {
          "model_module": "@jupyter-widgets/base",
          "model_name": "LayoutModel",
          "model_module_version": "1.2.0",
          "state": {
            "_model_module": "@jupyter-widgets/base",
            "_model_module_version": "1.2.0",
            "_model_name": "LayoutModel",
            "_view_count": null,
            "_view_module": "@jupyter-widgets/base",
            "_view_module_version": "1.2.0",
            "_view_name": "LayoutView",
            "align_content": null,
            "align_items": null,
            "align_self": null,
            "border": null,
            "bottom": null,
            "display": null,
            "flex": null,
            "flex_flow": null,
            "grid_area": null,
            "grid_auto_columns": null,
            "grid_auto_flow": null,
            "grid_auto_rows": null,
            "grid_column": null,
            "grid_gap": null,
            "grid_row": null,
            "grid_template_areas": null,
            "grid_template_columns": null,
            "grid_template_rows": null,
            "height": null,
            "justify_content": null,
            "justify_items": null,
            "left": null,
            "margin": null,
            "max_height": null,
            "max_width": null,
            "min_height": null,
            "min_width": null,
            "object_fit": null,
            "object_position": null,
            "order": null,
            "overflow": null,
            "overflow_x": null,
            "overflow_y": null,
            "padding": null,
            "right": null,
            "top": null,
            "visibility": null,
            "width": null
          }
        },
        "160dd45ddb914ea2a5b7a55d0ac48f69": {
          "model_module": "@jupyter-widgets/controls",
          "model_name": "DescriptionStyleModel",
          "model_module_version": "1.5.0",
          "state": {
            "_model_module": "@jupyter-widgets/controls",
            "_model_module_version": "1.5.0",
            "_model_name": "DescriptionStyleModel",
            "_view_count": null,
            "_view_module": "@jupyter-widgets/base",
            "_view_module_version": "1.2.0",
            "_view_name": "StyleView",
            "description_width": ""
          }
        },
        "5d4e3a0a18d346a99b5603ec6fe03f61": {
          "model_module": "@jupyter-widgets/base",
          "model_name": "LayoutModel",
          "model_module_version": "1.2.0",
          "state": {
            "_model_module": "@jupyter-widgets/base",
            "_model_module_version": "1.2.0",
            "_model_name": "LayoutModel",
            "_view_count": null,
            "_view_module": "@jupyter-widgets/base",
            "_view_module_version": "1.2.0",
            "_view_name": "LayoutView",
            "align_content": null,
            "align_items": null,
            "align_self": null,
            "border": null,
            "bottom": null,
            "display": null,
            "flex": null,
            "flex_flow": null,
            "grid_area": null,
            "grid_auto_columns": null,
            "grid_auto_flow": null,
            "grid_auto_rows": null,
            "grid_column": null,
            "grid_gap": null,
            "grid_row": null,
            "grid_template_areas": null,
            "grid_template_columns": null,
            "grid_template_rows": null,
            "height": null,
            "justify_content": null,
            "justify_items": null,
            "left": null,
            "margin": null,
            "max_height": null,
            "max_width": null,
            "min_height": null,
            "min_width": null,
            "object_fit": null,
            "object_position": null,
            "order": null,
            "overflow": null,
            "overflow_x": null,
            "overflow_y": null,
            "padding": null,
            "right": null,
            "top": null,
            "visibility": null,
            "width": null
          }
        },
        "6ffd6da02cfb4fc7af949eb8085d3b0b": {
          "model_module": "@jupyter-widgets/controls",
          "model_name": "ProgressStyleModel",
          "model_module_version": "1.5.0",
          "state": {
            "_model_module": "@jupyter-widgets/controls",
            "_model_module_version": "1.5.0",
            "_model_name": "ProgressStyleModel",
            "_view_count": null,
            "_view_module": "@jupyter-widgets/base",
            "_view_module_version": "1.2.0",
            "_view_name": "StyleView",
            "bar_color": null,
            "description_width": ""
          }
        },
        "9acf3833d7da4ebaa7237fd8ebb414ef": {
          "model_module": "@jupyter-widgets/base",
          "model_name": "LayoutModel",
          "model_module_version": "1.2.0",
          "state": {
            "_model_module": "@jupyter-widgets/base",
            "_model_module_version": "1.2.0",
            "_model_name": "LayoutModel",
            "_view_count": null,
            "_view_module": "@jupyter-widgets/base",
            "_view_module_version": "1.2.0",
            "_view_name": "LayoutView",
            "align_content": null,
            "align_items": null,
            "align_self": null,
            "border": null,
            "bottom": null,
            "display": null,
            "flex": null,
            "flex_flow": null,
            "grid_area": null,
            "grid_auto_columns": null,
            "grid_auto_flow": null,
            "grid_auto_rows": null,
            "grid_column": null,
            "grid_gap": null,
            "grid_row": null,
            "grid_template_areas": null,
            "grid_template_columns": null,
            "grid_template_rows": null,
            "height": null,
            "justify_content": null,
            "justify_items": null,
            "left": null,
            "margin": null,
            "max_height": null,
            "max_width": null,
            "min_height": null,
            "min_width": null,
            "object_fit": null,
            "object_position": null,
            "order": null,
            "overflow": null,
            "overflow_x": null,
            "overflow_y": null,
            "padding": null,
            "right": null,
            "top": null,
            "visibility": null,
            "width": null
          }
        },
        "71e3a234329d4ca99354de133785be1a": {
          "model_module": "@jupyter-widgets/controls",
          "model_name": "DescriptionStyleModel",
          "model_module_version": "1.5.0",
          "state": {
            "_model_module": "@jupyter-widgets/controls",
            "_model_module_version": "1.5.0",
            "_model_name": "DescriptionStyleModel",
            "_view_count": null,
            "_view_module": "@jupyter-widgets/base",
            "_view_module_version": "1.2.0",
            "_view_name": "StyleView",
            "description_width": ""
          }
        },
        "e0f466cf904e42d89e11ab132b498821": {
          "model_module": "@jupyter-widgets/controls",
          "model_name": "HBoxModel",
          "model_module_version": "1.5.0",
          "state": {
            "_dom_classes": [],
            "_model_module": "@jupyter-widgets/controls",
            "_model_module_version": "1.5.0",
            "_model_name": "HBoxModel",
            "_view_count": null,
            "_view_module": "@jupyter-widgets/controls",
            "_view_module_version": "1.5.0",
            "_view_name": "HBoxView",
            "box_style": "",
            "children": [
              "IPY_MODEL_dd04f9a2edeb45de870669962f05b79c",
              "IPY_MODEL_e188fb534f864f2f8618a2b95626d427",
              "IPY_MODEL_e837926205a84ed6b75a16d62ca8832e"
            ],
            "layout": "IPY_MODEL_618a9726c24545e492b36f5f8f3ceae0"
          }
        },
        "dd04f9a2edeb45de870669962f05b79c": {
          "model_module": "@jupyter-widgets/controls",
          "model_name": "HTMLModel",
          "model_module_version": "1.5.0",
          "state": {
            "_dom_classes": [],
            "_model_module": "@jupyter-widgets/controls",
            "_model_module_version": "1.5.0",
            "_model_name": "HTMLModel",
            "_view_count": null,
            "_view_module": "@jupyter-widgets/controls",
            "_view_module_version": "1.5.0",
            "_view_name": "HTMLView",
            "description": "",
            "description_tooltip": null,
            "layout": "IPY_MODEL_a9ecc262063e448fb5899aacfce2625c",
            "placeholder": "​",
            "style": "IPY_MODEL_f5bae621775141df881861978d385d83",
            "value": "tekken.json: 100%"
          }
        },
        "e188fb534f864f2f8618a2b95626d427": {
          "model_module": "@jupyter-widgets/controls",
          "model_name": "FloatProgressModel",
          "model_module_version": "1.5.0",
          "state": {
            "_dom_classes": [],
            "_model_module": "@jupyter-widgets/controls",
            "_model_module_version": "1.5.0",
            "_model_name": "FloatProgressModel",
            "_view_count": null,
            "_view_module": "@jupyter-widgets/controls",
            "_view_module_version": "1.5.0",
            "_view_name": "ProgressView",
            "bar_style": "success",
            "description": "",
            "description_tooltip": null,
            "layout": "IPY_MODEL_05d56d6782e548afa1cea14d60cf5c92",
            "max": 14801223,
            "min": 0,
            "orientation": "horizontal",
            "style": "IPY_MODEL_cabfa24aa1a441c3a71a965a179c2fad",
            "value": 14801223
          }
        },
        "e837926205a84ed6b75a16d62ca8832e": {
          "model_module": "@jupyter-widgets/controls",
          "model_name": "HTMLModel",
          "model_module_version": "1.5.0",
          "state": {
            "_dom_classes": [],
            "_model_module": "@jupyter-widgets/controls",
            "_model_module_version": "1.5.0",
            "_model_name": "HTMLModel",
            "_view_count": null,
            "_view_module": "@jupyter-widgets/controls",
            "_view_module_version": "1.5.0",
            "_view_name": "HTMLView",
            "description": "",
            "description_tooltip": null,
            "layout": "IPY_MODEL_3299c14106564d71b9af6a582aaa36ab",
            "placeholder": "​",
            "style": "IPY_MODEL_dc1255196e554ff1b2682bd3bfbaa7fb",
            "value": " 14.8M/14.8M [00:00&lt;00:00, 42.5MB/s]"
          }
        },
        "618a9726c24545e492b36f5f8f3ceae0": {
          "model_module": "@jupyter-widgets/base",
          "model_name": "LayoutModel",
          "model_module_version": "1.2.0",
          "state": {
            "_model_module": "@jupyter-widgets/base",
            "_model_module_version": "1.2.0",
            "_model_name": "LayoutModel",
            "_view_count": null,
            "_view_module": "@jupyter-widgets/base",
            "_view_module_version": "1.2.0",
            "_view_name": "LayoutView",
            "align_content": null,
            "align_items": null,
            "align_self": null,
            "border": null,
            "bottom": null,
            "display": null,
            "flex": null,
            "flex_flow": null,
            "grid_area": null,
            "grid_auto_columns": null,
            "grid_auto_flow": null,
            "grid_auto_rows": null,
            "grid_column": null,
            "grid_gap": null,
            "grid_row": null,
            "grid_template_areas": null,
            "grid_template_columns": null,
            "grid_template_rows": null,
            "height": null,
            "justify_content": null,
            "justify_items": null,
            "left": null,
            "margin": null,
            "max_height": null,
            "max_width": null,
            "min_height": null,
            "min_width": null,
            "object_fit": null,
            "object_position": null,
            "order": null,
            "overflow": null,
            "overflow_x": null,
            "overflow_y": null,
            "padding": null,
            "right": null,
            "top": null,
            "visibility": null,
            "width": null
          }
        },
        "a9ecc262063e448fb5899aacfce2625c": {
          "model_module": "@jupyter-widgets/base",
          "model_name": "LayoutModel",
          "model_module_version": "1.2.0",
          "state": {
            "_model_module": "@jupyter-widgets/base",
            "_model_module_version": "1.2.0",
            "_model_name": "LayoutModel",
            "_view_count": null,
            "_view_module": "@jupyter-widgets/base",
            "_view_module_version": "1.2.0",
            "_view_name": "LayoutView",
            "align_content": null,
            "align_items": null,
            "align_self": null,
            "border": null,
            "bottom": null,
            "display": null,
            "flex": null,
            "flex_flow": null,
            "grid_area": null,
            "grid_auto_columns": null,
            "grid_auto_flow": null,
            "grid_auto_rows": null,
            "grid_column": null,
            "grid_gap": null,
            "grid_row": null,
            "grid_template_areas": null,
            "grid_template_columns": null,
            "grid_template_rows": null,
            "height": null,
            "justify_content": null,
            "justify_items": null,
            "left": null,
            "margin": null,
            "max_height": null,
            "max_width": null,
            "min_height": null,
            "min_width": null,
            "object_fit": null,
            "object_position": null,
            "order": null,
            "overflow": null,
            "overflow_x": null,
            "overflow_y": null,
            "padding": null,
            "right": null,
            "top": null,
            "visibility": null,
            "width": null
          }
        },
        "f5bae621775141df881861978d385d83": {
          "model_module": "@jupyter-widgets/controls",
          "model_name": "DescriptionStyleModel",
          "model_module_version": "1.5.0",
          "state": {
            "_model_module": "@jupyter-widgets/controls",
            "_model_module_version": "1.5.0",
            "_model_name": "DescriptionStyleModel",
            "_view_count": null,
            "_view_module": "@jupyter-widgets/base",
            "_view_module_version": "1.2.0",
            "_view_name": "StyleView",
            "description_width": ""
          }
        },
        "05d56d6782e548afa1cea14d60cf5c92": {
          "model_module": "@jupyter-widgets/base",
          "model_name": "LayoutModel",
          "model_module_version": "1.2.0",
          "state": {
            "_model_module": "@jupyter-widgets/base",
            "_model_module_version": "1.2.0",
            "_model_name": "LayoutModel",
            "_view_count": null,
            "_view_module": "@jupyter-widgets/base",
            "_view_module_version": "1.2.0",
            "_view_name": "LayoutView",
            "align_content": null,
            "align_items": null,
            "align_self": null,
            "border": null,
            "bottom": null,
            "display": null,
            "flex": null,
            "flex_flow": null,
            "grid_area": null,
            "grid_auto_columns": null,
            "grid_auto_flow": null,
            "grid_auto_rows": null,
            "grid_column": null,
            "grid_gap": null,
            "grid_row": null,
            "grid_template_areas": null,
            "grid_template_columns": null,
            "grid_template_rows": null,
            "height": null,
            "justify_content": null,
            "justify_items": null,
            "left": null,
            "margin": null,
            "max_height": null,
            "max_width": null,
            "min_height": null,
            "min_width": null,
            "object_fit": null,
            "object_position": null,
            "order": null,
            "overflow": null,
            "overflow_x": null,
            "overflow_y": null,
            "padding": null,
            "right": null,
            "top": null,
            "visibility": null,
            "width": null
          }
        },
        "cabfa24aa1a441c3a71a965a179c2fad": {
          "model_module": "@jupyter-widgets/controls",
          "model_name": "ProgressStyleModel",
          "model_module_version": "1.5.0",
          "state": {
            "_model_module": "@jupyter-widgets/controls",
            "_model_module_version": "1.5.0",
            "_model_name": "ProgressStyleModel",
            "_view_count": null,
            "_view_module": "@jupyter-widgets/base",
            "_view_module_version": "1.2.0",
            "_view_name": "StyleView",
            "bar_color": null,
            "description_width": ""
          }
        },
        "3299c14106564d71b9af6a582aaa36ab": {
          "model_module": "@jupyter-widgets/base",
          "model_name": "LayoutModel",
          "model_module_version": "1.2.0",
          "state": {
            "_model_module": "@jupyter-widgets/base",
            "_model_module_version": "1.2.0",
            "_model_name": "LayoutModel",
            "_view_count": null,
            "_view_module": "@jupyter-widgets/base",
            "_view_module_version": "1.2.0",
            "_view_name": "LayoutView",
            "align_content": null,
            "align_items": null,
            "align_self": null,
            "border": null,
            "bottom": null,
            "display": null,
            "flex": null,
            "flex_flow": null,
            "grid_area": null,
            "grid_auto_columns": null,
            "grid_auto_flow": null,
            "grid_auto_rows": null,
            "grid_column": null,
            "grid_gap": null,
            "grid_row": null,
            "grid_template_areas": null,
            "grid_template_columns": null,
            "grid_template_rows": null,
            "height": null,
            "justify_content": null,
            "justify_items": null,
            "left": null,
            "margin": null,
            "max_height": null,
            "max_width": null,
            "min_height": null,
            "min_width": null,
            "object_fit": null,
            "object_position": null,
            "order": null,
            "overflow": null,
            "overflow_x": null,
            "overflow_y": null,
            "padding": null,
            "right": null,
            "top": null,
            "visibility": null,
            "width": null
          }
        },
        "dc1255196e554ff1b2682bd3bfbaa7fb": {
          "model_module": "@jupyter-widgets/controls",
          "model_name": "DescriptionStyleModel",
          "model_module_version": "1.5.0",
          "state": {
            "_model_module": "@jupyter-widgets/controls",
            "_model_module_version": "1.5.0",
            "_model_name": "DescriptionStyleModel",
            "_view_count": null,
            "_view_module": "@jupyter-widgets/base",
            "_view_module_version": "1.2.0",
            "_view_name": "StyleView",
            "description_width": ""
          }
        },
        "8c786d18dd6746ab842c5cc0c1f32139": {
          "model_module": "@jupyter-widgets/controls",
          "model_name": "HBoxModel",
          "model_module_version": "1.5.0",
          "state": {
            "_dom_classes": [],
            "_model_module": "@jupyter-widgets/controls",
            "_model_module_version": "1.5.0",
            "_model_name": "HBoxModel",
            "_view_count": null,
            "_view_module": "@jupyter-widgets/controls",
            "_view_module_version": "1.5.0",
            "_view_name": "HBoxView",
            "box_style": "",
            "children": [
              "IPY_MODEL_447d66d00fd744178259f6cabc62fdf9",
              "IPY_MODEL_d88eda5f69b5442caae4afcf8a03409c",
              "IPY_MODEL_cdef6210b87c4ee09c9a0f52958f5ee3"
            ],
            "layout": "IPY_MODEL_759d7ca3c7614fbda67e08cae55a79f0"
          }
        },
        "447d66d00fd744178259f6cabc62fdf9": {
          "model_module": "@jupyter-widgets/controls",
          "model_name": "HTMLModel",
          "model_module_version": "1.5.0",
          "state": {
            "_dom_classes": [],
            "_model_module": "@jupyter-widgets/controls",
            "_model_module_version": "1.5.0",
            "_model_name": "HTMLModel",
            "_view_count": null,
            "_view_module": "@jupyter-widgets/controls",
            "_view_module_version": "1.5.0",
            "_view_name": "HTMLView",
            "description": "",
            "description_tooltip": null,
            "layout": "IPY_MODEL_64fe7b3a691d43a1b8580a160afece8f",
            "placeholder": "​",
            "style": "IPY_MODEL_5f9c23213db4404ba7fd0069d666293c",
            "value": "generation_config.json: 100%"
          }
        },
        "d88eda5f69b5442caae4afcf8a03409c": {
          "model_module": "@jupyter-widgets/controls",
          "model_name": "FloatProgressModel",
          "model_module_version": "1.5.0",
          "state": {
            "_dom_classes": [],
            "_model_module": "@jupyter-widgets/controls",
            "_model_module_version": "1.5.0",
            "_model_name": "FloatProgressModel",
            "_view_count": null,
            "_view_module": "@jupyter-widgets/controls",
            "_view_module_version": "1.5.0",
            "_view_name": "ProgressView",
            "bar_style": "success",
            "description": "",
            "description_tooltip": null,
            "layout": "IPY_MODEL_46e41543cfef4b12a995ab3f71007724",
            "max": 116,
            "min": 0,
            "orientation": "horizontal",
            "style": "IPY_MODEL_b12471ce275a4d6998e4f2e08b1eda38",
            "value": 116
          }
        },
        "cdef6210b87c4ee09c9a0f52958f5ee3": {
          "model_module": "@jupyter-widgets/controls",
          "model_name": "HTMLModel",
          "model_module_version": "1.5.0",
          "state": {
            "_dom_classes": [],
            "_model_module": "@jupyter-widgets/controls",
            "_model_module_version": "1.5.0",
            "_model_name": "HTMLModel",
            "_view_count": null,
            "_view_module": "@jupyter-widgets/controls",
            "_view_module_version": "1.5.0",
            "_view_name": "HTMLView",
            "description": "",
            "description_tooltip": null,
            "layout": "IPY_MODEL_221a20c1bc244f14bb1b563688830621",
            "placeholder": "​",
            "style": "IPY_MODEL_d091bda62b7c4b0fae5ad1849709ca83",
            "value": " 116/116 [00:00&lt;00:00, 9.32kB/s]"
          }
        },
        "759d7ca3c7614fbda67e08cae55a79f0": {
          "model_module": "@jupyter-widgets/base",
          "model_name": "LayoutModel",
          "model_module_version": "1.2.0",
          "state": {
            "_model_module": "@jupyter-widgets/base",
            "_model_module_version": "1.2.0",
            "_model_name": "LayoutModel",
            "_view_count": null,
            "_view_module": "@jupyter-widgets/base",
            "_view_module_version": "1.2.0",
            "_view_name": "LayoutView",
            "align_content": null,
            "align_items": null,
            "align_self": null,
            "border": null,
            "bottom": null,
            "display": null,
            "flex": null,
            "flex_flow": null,
            "grid_area": null,
            "grid_auto_columns": null,
            "grid_auto_flow": null,
            "grid_auto_rows": null,
            "grid_column": null,
            "grid_gap": null,
            "grid_row": null,
            "grid_template_areas": null,
            "grid_template_columns": null,
            "grid_template_rows": null,
            "height": null,
            "justify_content": null,
            "justify_items": null,
            "left": null,
            "margin": null,
            "max_height": null,
            "max_width": null,
            "min_height": null,
            "min_width": null,
            "object_fit": null,
            "object_position": null,
            "order": null,
            "overflow": null,
            "overflow_x": null,
            "overflow_y": null,
            "padding": null,
            "right": null,
            "top": null,
            "visibility": null,
            "width": null
          }
        },
        "64fe7b3a691d43a1b8580a160afece8f": {
          "model_module": "@jupyter-widgets/base",
          "model_name": "LayoutModel",
          "model_module_version": "1.2.0",
          "state": {
            "_model_module": "@jupyter-widgets/base",
            "_model_module_version": "1.2.0",
            "_model_name": "LayoutModel",
            "_view_count": null,
            "_view_module": "@jupyter-widgets/base",
            "_view_module_version": "1.2.0",
            "_view_name": "LayoutView",
            "align_content": null,
            "align_items": null,
            "align_self": null,
            "border": null,
            "bottom": null,
            "display": null,
            "flex": null,
            "flex_flow": null,
            "grid_area": null,
            "grid_auto_columns": null,
            "grid_auto_flow": null,
            "grid_auto_rows": null,
            "grid_column": null,
            "grid_gap": null,
            "grid_row": null,
            "grid_template_areas": null,
            "grid_template_columns": null,
            "grid_template_rows": null,
            "height": null,
            "justify_content": null,
            "justify_items": null,
            "left": null,
            "margin": null,
            "max_height": null,
            "max_width": null,
            "min_height": null,
            "min_width": null,
            "object_fit": null,
            "object_position": null,
            "order": null,
            "overflow": null,
            "overflow_x": null,
            "overflow_y": null,
            "padding": null,
            "right": null,
            "top": null,
            "visibility": null,
            "width": null
          }
        },
        "5f9c23213db4404ba7fd0069d666293c": {
          "model_module": "@jupyter-widgets/controls",
          "model_name": "DescriptionStyleModel",
          "model_module_version": "1.5.0",
          "state": {
            "_model_module": "@jupyter-widgets/controls",
            "_model_module_version": "1.5.0",
            "_model_name": "DescriptionStyleModel",
            "_view_count": null,
            "_view_module": "@jupyter-widgets/base",
            "_view_module_version": "1.2.0",
            "_view_name": "StyleView",
            "description_width": ""
          }
        },
        "46e41543cfef4b12a995ab3f71007724": {
          "model_module": "@jupyter-widgets/base",
          "model_name": "LayoutModel",
          "model_module_version": "1.2.0",
          "state": {
            "_model_module": "@jupyter-widgets/base",
            "_model_module_version": "1.2.0",
            "_model_name": "LayoutModel",
            "_view_count": null,
            "_view_module": "@jupyter-widgets/base",
            "_view_module_version": "1.2.0",
            "_view_name": "LayoutView",
            "align_content": null,
            "align_items": null,
            "align_self": null,
            "border": null,
            "bottom": null,
            "display": null,
            "flex": null,
            "flex_flow": null,
            "grid_area": null,
            "grid_auto_columns": null,
            "grid_auto_flow": null,
            "grid_auto_rows": null,
            "grid_column": null,
            "grid_gap": null,
            "grid_row": null,
            "grid_template_areas": null,
            "grid_template_columns": null,
            "grid_template_rows": null,
            "height": null,
            "justify_content": null,
            "justify_items": null,
            "left": null,
            "margin": null,
            "max_height": null,
            "max_width": null,
            "min_height": null,
            "min_width": null,
            "object_fit": null,
            "object_position": null,
            "order": null,
            "overflow": null,
            "overflow_x": null,
            "overflow_y": null,
            "padding": null,
            "right": null,
            "top": null,
            "visibility": null,
            "width": null
          }
        },
        "b12471ce275a4d6998e4f2e08b1eda38": {
          "model_module": "@jupyter-widgets/controls",
          "model_name": "ProgressStyleModel",
          "model_module_version": "1.5.0",
          "state": {
            "_model_module": "@jupyter-widgets/controls",
            "_model_module_version": "1.5.0",
            "_model_name": "ProgressStyleModel",
            "_view_count": null,
            "_view_module": "@jupyter-widgets/base",
            "_view_module_version": "1.2.0",
            "_view_name": "StyleView",
            "bar_color": null,
            "description_width": ""
          }
        },
        "221a20c1bc244f14bb1b563688830621": {
          "model_module": "@jupyter-widgets/base",
          "model_name": "LayoutModel",
          "model_module_version": "1.2.0",
          "state": {
            "_model_module": "@jupyter-widgets/base",
            "_model_module_version": "1.2.0",
            "_model_name": "LayoutModel",
            "_view_count": null,
            "_view_module": "@jupyter-widgets/base",
            "_view_module_version": "1.2.0",
            "_view_name": "LayoutView",
            "align_content": null,
            "align_items": null,
            "align_self": null,
            "border": null,
            "bottom": null,
            "display": null,
            "flex": null,
            "flex_flow": null,
            "grid_area": null,
            "grid_auto_columns": null,
            "grid_auto_flow": null,
            "grid_auto_rows": null,
            "grid_column": null,
            "grid_gap": null,
            "grid_row": null,
            "grid_template_areas": null,
            "grid_template_columns": null,
            "grid_template_rows": null,
            "height": null,
            "justify_content": null,
            "justify_items": null,
            "left": null,
            "margin": null,
            "max_height": null,
            "max_width": null,
            "min_height": null,
            "min_width": null,
            "object_fit": null,
            "object_position": null,
            "order": null,
            "overflow": null,
            "overflow_x": null,
            "overflow_y": null,
            "padding": null,
            "right": null,
            "top": null,
            "visibility": null,
            "width": null
          }
        },
        "d091bda62b7c4b0fae5ad1849709ca83": {
          "model_module": "@jupyter-widgets/controls",
          "model_name": "DescriptionStyleModel",
          "model_module_version": "1.5.0",
          "state": {
            "_model_module": "@jupyter-widgets/controls",
            "_model_module_version": "1.5.0",
            "_model_name": "DescriptionStyleModel",
            "_view_count": null,
            "_view_module": "@jupyter-widgets/base",
            "_view_module_version": "1.2.0",
            "_view_name": "StyleView",
            "description_width": ""
          }
        },
        "780b670432f4404caf4e4ec7a241e699": {
          "model_module": "@jupyter-widgets/controls",
          "model_name": "HBoxModel",
          "model_module_version": "1.5.0",
          "state": {
            "_dom_classes": [],
            "_model_module": "@jupyter-widgets/controls",
            "_model_module_version": "1.5.0",
            "_model_name": "HBoxModel",
            "_view_count": null,
            "_view_module": "@jupyter-widgets/controls",
            "_view_module_version": "1.5.0",
            "_view_name": "HBoxView",
            "box_style": "",
            "children": [
              "IPY_MODEL_7f3fd992f16e47068a8281b277779318",
              "IPY_MODEL_746cfffde0724ac79c09a87b7be0b2f1",
              "IPY_MODEL_90e9086736a644b3b2f0c2393eba73ed"
            ],
            "layout": "IPY_MODEL_6db4b20fa1a04e1e90f7282779d94ba6"
          }
        },
        "7f3fd992f16e47068a8281b277779318": {
          "model_module": "@jupyter-widgets/controls",
          "model_name": "HTMLModel",
          "model_module_version": "1.5.0",
          "state": {
            "_dom_classes": [],
            "_model_module": "@jupyter-widgets/controls",
            "_model_module_version": "1.5.0",
            "_model_name": "HTMLModel",
            "_view_count": null,
            "_view_module": "@jupyter-widgets/controls",
            "_view_module_version": "1.5.0",
            "_view_name": "HTMLView",
            "description": "",
            "description_tooltip": null,
            "layout": "IPY_MODEL_148f6ad584484ebf8f33a22bbde17661",
            "placeholder": "​",
            "style": "IPY_MODEL_0f856e92f65748c2892858cc6bc29a0d",
            "value": "consolidated.safetensors: 100%"
          }
        },
        "746cfffde0724ac79c09a87b7be0b2f1": {
          "model_module": "@jupyter-widgets/controls",
          "model_name": "FloatProgressModel",
          "model_module_version": "1.5.0",
          "state": {
            "_dom_classes": [],
            "_model_module": "@jupyter-widgets/controls",
            "_model_module_version": "1.5.0",
            "_model_name": "FloatProgressModel",
            "_view_count": null,
            "_view_module": "@jupyter-widgets/controls",
            "_view_module_version": "1.5.0",
            "_view_name": "ProgressView",
            "bar_style": "success",
            "description": "",
            "description_tooltip": null,
            "layout": "IPY_MODEL_0af305408700443e8cb265fa09394989",
            "max": 16039651824,
            "min": 0,
            "orientation": "horizontal",
            "style": "IPY_MODEL_a8027d5e0bd94998846b8e7dbb477a23",
            "value": 16039651824
          }
        },
        "90e9086736a644b3b2f0c2393eba73ed": {
          "model_module": "@jupyter-widgets/controls",
          "model_name": "HTMLModel",
          "model_module_version": "1.5.0",
          "state": {
            "_dom_classes": [],
            "_model_module": "@jupyter-widgets/controls",
            "_model_module_version": "1.5.0",
            "_model_name": "HTMLModel",
            "_view_count": null,
            "_view_module": "@jupyter-widgets/controls",
            "_view_module_version": "1.5.0",
            "_view_name": "HTMLView",
            "description": "",
            "description_tooltip": null,
            "layout": "IPY_MODEL_2bebd3b3efdf4408bb10e4b1122baa7b",
            "placeholder": "​",
            "style": "IPY_MODEL_91ae5c8b93ab4d52b643136979acfccf",
            "value": " 16.0G/16.0G [06:39&lt;00:00, 49.0MB/s]"
          }
        },
        "6db4b20fa1a04e1e90f7282779d94ba6": {
          "model_module": "@jupyter-widgets/base",
          "model_name": "LayoutModel",
          "model_module_version": "1.2.0",
          "state": {
            "_model_module": "@jupyter-widgets/base",
            "_model_module_version": "1.2.0",
            "_model_name": "LayoutModel",
            "_view_count": null,
            "_view_module": "@jupyter-widgets/base",
            "_view_module_version": "1.2.0",
            "_view_name": "LayoutView",
            "align_content": null,
            "align_items": null,
            "align_self": null,
            "border": null,
            "bottom": null,
            "display": null,
            "flex": null,
            "flex_flow": null,
            "grid_area": null,
            "grid_auto_columns": null,
            "grid_auto_flow": null,
            "grid_auto_rows": null,
            "grid_column": null,
            "grid_gap": null,
            "grid_row": null,
            "grid_template_areas": null,
            "grid_template_columns": null,
            "grid_template_rows": null,
            "height": null,
            "justify_content": null,
            "justify_items": null,
            "left": null,
            "margin": null,
            "max_height": null,
            "max_width": null,
            "min_height": null,
            "min_width": null,
            "object_fit": null,
            "object_position": null,
            "order": null,
            "overflow": null,
            "overflow_x": null,
            "overflow_y": null,
            "padding": null,
            "right": null,
            "top": null,
            "visibility": null,
            "width": null
          }
        },
        "148f6ad584484ebf8f33a22bbde17661": {
          "model_module": "@jupyter-widgets/base",
          "model_name": "LayoutModel",
          "model_module_version": "1.2.0",
          "state": {
            "_model_module": "@jupyter-widgets/base",
            "_model_module_version": "1.2.0",
            "_model_name": "LayoutModel",
            "_view_count": null,
            "_view_module": "@jupyter-widgets/base",
            "_view_module_version": "1.2.0",
            "_view_name": "LayoutView",
            "align_content": null,
            "align_items": null,
            "align_self": null,
            "border": null,
            "bottom": null,
            "display": null,
            "flex": null,
            "flex_flow": null,
            "grid_area": null,
            "grid_auto_columns": null,
            "grid_auto_flow": null,
            "grid_auto_rows": null,
            "grid_column": null,
            "grid_gap": null,
            "grid_row": null,
            "grid_template_areas": null,
            "grid_template_columns": null,
            "grid_template_rows": null,
            "height": null,
            "justify_content": null,
            "justify_items": null,
            "left": null,
            "margin": null,
            "max_height": null,
            "max_width": null,
            "min_height": null,
            "min_width": null,
            "object_fit": null,
            "object_position": null,
            "order": null,
            "overflow": null,
            "overflow_x": null,
            "overflow_y": null,
            "padding": null,
            "right": null,
            "top": null,
            "visibility": null,
            "width": null
          }
        },
        "0f856e92f65748c2892858cc6bc29a0d": {
          "model_module": "@jupyter-widgets/controls",
          "model_name": "DescriptionStyleModel",
          "model_module_version": "1.5.0",
          "state": {
            "_model_module": "@jupyter-widgets/controls",
            "_model_module_version": "1.5.0",
            "_model_name": "DescriptionStyleModel",
            "_view_count": null,
            "_view_module": "@jupyter-widgets/base",
            "_view_module_version": "1.2.0",
            "_view_name": "StyleView",
            "description_width": ""
          }
        },
        "0af305408700443e8cb265fa09394989": {
          "model_module": "@jupyter-widgets/base",
          "model_name": "LayoutModel",
          "model_module_version": "1.2.0",
          "state": {
            "_model_module": "@jupyter-widgets/base",
            "_model_module_version": "1.2.0",
            "_model_name": "LayoutModel",
            "_view_count": null,
            "_view_module": "@jupyter-widgets/base",
            "_view_module_version": "1.2.0",
            "_view_name": "LayoutView",
            "align_content": null,
            "align_items": null,
            "align_self": null,
            "border": null,
            "bottom": null,
            "display": null,
            "flex": null,
            "flex_flow": null,
            "grid_area": null,
            "grid_auto_columns": null,
            "grid_auto_flow": null,
            "grid_auto_rows": null,
            "grid_column": null,
            "grid_gap": null,
            "grid_row": null,
            "grid_template_areas": null,
            "grid_template_columns": null,
            "grid_template_rows": null,
            "height": null,
            "justify_content": null,
            "justify_items": null,
            "left": null,
            "margin": null,
            "max_height": null,
            "max_width": null,
            "min_height": null,
            "min_width": null,
            "object_fit": null,
            "object_position": null,
            "order": null,
            "overflow": null,
            "overflow_x": null,
            "overflow_y": null,
            "padding": null,
            "right": null,
            "top": null,
            "visibility": null,
            "width": null
          }
        },
        "a8027d5e0bd94998846b8e7dbb477a23": {
          "model_module": "@jupyter-widgets/controls",
          "model_name": "ProgressStyleModel",
          "model_module_version": "1.5.0",
          "state": {
            "_model_module": "@jupyter-widgets/controls",
            "_model_module_version": "1.5.0",
            "_model_name": "ProgressStyleModel",
            "_view_count": null,
            "_view_module": "@jupyter-widgets/base",
            "_view_module_version": "1.2.0",
            "_view_name": "StyleView",
            "bar_color": null,
            "description_width": ""
          }
        },
        "2bebd3b3efdf4408bb10e4b1122baa7b": {
          "model_module": "@jupyter-widgets/base",
          "model_name": "LayoutModel",
          "model_module_version": "1.2.0",
          "state": {
            "_model_module": "@jupyter-widgets/base",
            "_model_module_version": "1.2.0",
            "_model_name": "LayoutModel",
            "_view_count": null,
            "_view_module": "@jupyter-widgets/base",
            "_view_module_version": "1.2.0",
            "_view_name": "LayoutView",
            "align_content": null,
            "align_items": null,
            "align_self": null,
            "border": null,
            "bottom": null,
            "display": null,
            "flex": null,
            "flex_flow": null,
            "grid_area": null,
            "grid_auto_columns": null,
            "grid_auto_flow": null,
            "grid_auto_rows": null,
            "grid_column": null,
            "grid_gap": null,
            "grid_row": null,
            "grid_template_areas": null,
            "grid_template_columns": null,
            "grid_template_rows": null,
            "height": null,
            "justify_content": null,
            "justify_items": null,
            "left": null,
            "margin": null,
            "max_height": null,
            "max_width": null,
            "min_height": null,
            "min_width": null,
            "object_fit": null,
            "object_position": null,
            "order": null,
            "overflow": null,
            "overflow_x": null,
            "overflow_y": null,
            "padding": null,
            "right": null,
            "top": null,
            "visibility": null,
            "width": null
          }
        },
        "91ae5c8b93ab4d52b643136979acfccf": {
          "model_module": "@jupyter-widgets/controls",
          "model_name": "DescriptionStyleModel",
          "model_module_version": "1.5.0",
          "state": {
            "_model_module": "@jupyter-widgets/controls",
            "_model_module_version": "1.5.0",
            "_model_name": "DescriptionStyleModel",
            "_view_count": null,
            "_view_module": "@jupyter-widgets/base",
            "_view_module_version": "1.2.0",
            "_view_name": "StyleView",
            "description_width": ""
          }
        },
        "bffb4d1bb9d04f6887019ac68f2d659c": {
          "model_module": "@jupyter-widgets/controls",
          "model_name": "HBoxModel",
          "model_module_version": "1.5.0",
          "state": {
            "_dom_classes": [],
            "_model_module": "@jupyter-widgets/controls",
            "_model_module_version": "1.5.0",
            "_model_name": "HBoxModel",
            "_view_count": null,
            "_view_module": "@jupyter-widgets/controls",
            "_view_module_version": "1.5.0",
            "_view_name": "HBoxView",
            "box_style": "",
            "children": [
              "IPY_MODEL_44b144e97dcd4ab1b797a3502aa88eef",
              "IPY_MODEL_d39971ce2abd4492a9cdf39cd0b6176e",
              "IPY_MODEL_41a8eaf361314c359fa077b7a38e9efd"
            ],
            "layout": "IPY_MODEL_a144d47086064dab974195aec05bd25c"
          }
        },
        "44b144e97dcd4ab1b797a3502aa88eef": {
          "model_module": "@jupyter-widgets/controls",
          "model_name": "HTMLModel",
          "model_module_version": "1.5.0",
          "state": {
            "_dom_classes": [],
            "_model_module": "@jupyter-widgets/controls",
            "_model_module_version": "1.5.0",
            "_model_name": "HTMLModel",
            "_view_count": null,
            "_view_module": "@jupyter-widgets/controls",
            "_view_module_version": "1.5.0",
            "_view_name": "HTMLView",
            "description": "",
            "description_tooltip": null,
            "layout": "IPY_MODEL_f40e344d0eec4e8b9014daa277a913a6",
            "placeholder": "​",
            "style": "IPY_MODEL_1c40b0b5c565442a9251355b34fd0d64",
            "value": ""
          }
        },
        "d39971ce2abd4492a9cdf39cd0b6176e": {
          "model_module": "@jupyter-widgets/controls",
          "model_name": "FloatProgressModel",
          "model_module_version": "1.5.0",
          "state": {
            "_dom_classes": [],
            "_model_module": "@jupyter-widgets/controls",
            "_model_module_version": "1.5.0",
            "_model_name": "FloatProgressModel",
            "_view_count": null,
            "_view_module": "@jupyter-widgets/controls",
            "_view_module_version": "1.5.0",
            "_view_name": "ProgressView",
            "bar_style": "success",
            "description": "",
            "description_tooltip": null,
            "layout": "IPY_MODEL_31ec0ad2aee84771b07134a835d5f6da",
            "max": 1,
            "min": 0,
            "orientation": "horizontal",
            "style": "IPY_MODEL_51ca14215b594b8cbd8a555db56fa8f7",
            "value": 1
          }
        },
        "41a8eaf361314c359fa077b7a38e9efd": {
          "model_module": "@jupyter-widgets/controls",
          "model_name": "HTMLModel",
          "model_module_version": "1.5.0",
          "state": {
            "_dom_classes": [],
            "_model_module": "@jupyter-widgets/controls",
            "_model_module_version": "1.5.0",
            "_model_name": "HTMLModel",
            "_view_count": null,
            "_view_module": "@jupyter-widgets/controls",
            "_view_module_version": "1.5.0",
            "_view_name": "HTMLView",
            "description": "",
            "description_tooltip": null,
            "layout": "IPY_MODEL_19e6d966ebc24d6595d74d196ed67f90",
            "placeholder": "​",
            "style": "IPY_MODEL_d4db4e3c252342f7a361614b39ffbde4",
            "value": "Loading safetensors checkpoint shards: 100% Completed | 1/1 [00:08&lt;00:00,  8.07s/it]\n"
          }
        },
        "a144d47086064dab974195aec05bd25c": {
          "model_module": "@jupyter-widgets/base",
          "model_name": "LayoutModel",
          "model_module_version": "1.2.0",
          "state": {
            "_model_module": "@jupyter-widgets/base",
            "_model_module_version": "1.2.0",
            "_model_name": "LayoutModel",
            "_view_count": null,
            "_view_module": "@jupyter-widgets/base",
            "_view_module_version": "1.2.0",
            "_view_name": "LayoutView",
            "align_content": null,
            "align_items": null,
            "align_self": null,
            "border": null,
            "bottom": null,
            "display": null,
            "flex": null,
            "flex_flow": null,
            "grid_area": null,
            "grid_auto_columns": null,
            "grid_auto_flow": null,
            "grid_auto_rows": null,
            "grid_column": null,
            "grid_gap": null,
            "grid_row": null,
            "grid_template_areas": null,
            "grid_template_columns": null,
            "grid_template_rows": null,
            "height": null,
            "justify_content": null,
            "justify_items": null,
            "left": null,
            "margin": null,
            "max_height": null,
            "max_width": null,
            "min_height": null,
            "min_width": null,
            "object_fit": null,
            "object_position": null,
            "order": null,
            "overflow": null,
            "overflow_x": null,
            "overflow_y": null,
            "padding": null,
            "right": null,
            "top": null,
            "visibility": null,
            "width": null
          }
        },
        "f40e344d0eec4e8b9014daa277a913a6": {
          "model_module": "@jupyter-widgets/base",
          "model_name": "LayoutModel",
          "model_module_version": "1.2.0",
          "state": {
            "_model_module": "@jupyter-widgets/base",
            "_model_module_version": "1.2.0",
            "_model_name": "LayoutModel",
            "_view_count": null,
            "_view_module": "@jupyter-widgets/base",
            "_view_module_version": "1.2.0",
            "_view_name": "LayoutView",
            "align_content": null,
            "align_items": null,
            "align_self": null,
            "border": null,
            "bottom": null,
            "display": null,
            "flex": null,
            "flex_flow": null,
            "grid_area": null,
            "grid_auto_columns": null,
            "grid_auto_flow": null,
            "grid_auto_rows": null,
            "grid_column": null,
            "grid_gap": null,
            "grid_row": null,
            "grid_template_areas": null,
            "grid_template_columns": null,
            "grid_template_rows": null,
            "height": null,
            "justify_content": null,
            "justify_items": null,
            "left": null,
            "margin": null,
            "max_height": null,
            "max_width": null,
            "min_height": null,
            "min_width": null,
            "object_fit": null,
            "object_position": null,
            "order": null,
            "overflow": null,
            "overflow_x": null,
            "overflow_y": null,
            "padding": null,
            "right": null,
            "top": null,
            "visibility": null,
            "width": null
          }
        },
        "1c40b0b5c565442a9251355b34fd0d64": {
          "model_module": "@jupyter-widgets/controls",
          "model_name": "DescriptionStyleModel",
          "model_module_version": "1.5.0",
          "state": {
            "_model_module": "@jupyter-widgets/controls",
            "_model_module_version": "1.5.0",
            "_model_name": "DescriptionStyleModel",
            "_view_count": null,
            "_view_module": "@jupyter-widgets/base",
            "_view_module_version": "1.2.0",
            "_view_name": "StyleView",
            "description_width": ""
          }
        },
        "31ec0ad2aee84771b07134a835d5f6da": {
          "model_module": "@jupyter-widgets/base",
          "model_name": "LayoutModel",
          "model_module_version": "1.2.0",
          "state": {
            "_model_module": "@jupyter-widgets/base",
            "_model_module_version": "1.2.0",
            "_model_name": "LayoutModel",
            "_view_count": null,
            "_view_module": "@jupyter-widgets/base",
            "_view_module_version": "1.2.0",
            "_view_name": "LayoutView",
            "align_content": null,
            "align_items": null,
            "align_self": null,
            "border": null,
            "bottom": null,
            "display": null,
            "flex": null,
            "flex_flow": null,
            "grid_area": null,
            "grid_auto_columns": null,
            "grid_auto_flow": null,
            "grid_auto_rows": null,
            "grid_column": null,
            "grid_gap": null,
            "grid_row": null,
            "grid_template_areas": null,
            "grid_template_columns": null,
            "grid_template_rows": null,
            "height": null,
            "justify_content": null,
            "justify_items": null,
            "left": null,
            "margin": null,
            "max_height": null,
            "max_width": null,
            "min_height": null,
            "min_width": null,
            "object_fit": null,
            "object_position": null,
            "order": null,
            "overflow": null,
            "overflow_x": null,
            "overflow_y": null,
            "padding": null,
            "right": null,
            "top": null,
            "visibility": null,
            "width": null
          }
        },
        "51ca14215b594b8cbd8a555db56fa8f7": {
          "model_module": "@jupyter-widgets/controls",
          "model_name": "ProgressStyleModel",
          "model_module_version": "1.5.0",
          "state": {
            "_model_module": "@jupyter-widgets/controls",
            "_model_module_version": "1.5.0",
            "_model_name": "ProgressStyleModel",
            "_view_count": null,
            "_view_module": "@jupyter-widgets/base",
            "_view_module_version": "1.2.0",
            "_view_name": "StyleView",
            "bar_color": null,
            "description_width": ""
          }
        },
        "19e6d966ebc24d6595d74d196ed67f90": {
          "model_module": "@jupyter-widgets/base",
          "model_name": "LayoutModel",
          "model_module_version": "1.2.0",
          "state": {
            "_model_module": "@jupyter-widgets/base",
            "_model_module_version": "1.2.0",
            "_model_name": "LayoutModel",
            "_view_count": null,
            "_view_module": "@jupyter-widgets/base",
            "_view_module_version": "1.2.0",
            "_view_name": "LayoutView",
            "align_content": null,
            "align_items": null,
            "align_self": null,
            "border": null,
            "bottom": null,
            "display": null,
            "flex": null,
            "flex_flow": null,
            "grid_area": null,
            "grid_auto_columns": null,
            "grid_auto_flow": null,
            "grid_auto_rows": null,
            "grid_column": null,
            "grid_gap": null,
            "grid_row": null,
            "grid_template_areas": null,
            "grid_template_columns": null,
            "grid_template_rows": null,
            "height": null,
            "justify_content": null,
            "justify_items": null,
            "left": null,
            "margin": null,
            "max_height": null,
            "max_width": null,
            "min_height": null,
            "min_width": null,
            "object_fit": null,
            "object_position": null,
            "order": null,
            "overflow": null,
            "overflow_x": null,
            "overflow_y": null,
            "padding": null,
            "right": null,
            "top": null,
            "visibility": null,
            "width": null
          }
        },
        "d4db4e3c252342f7a361614b39ffbde4": {
          "model_module": "@jupyter-widgets/controls",
          "model_name": "DescriptionStyleModel",
          "model_module_version": "1.5.0",
          "state": {
            "_model_module": "@jupyter-widgets/controls",
            "_model_module_version": "1.5.0",
            "_model_name": "DescriptionStyleModel",
            "_view_count": null,
            "_view_module": "@jupyter-widgets/base",
            "_view_module_version": "1.2.0",
            "_view_name": "StyleView",
            "description_width": ""
          }
        }
      }
    }
  },
  "nbformat": 4,
  "nbformat_minor": 0
}