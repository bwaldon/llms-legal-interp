{
 "cells": [
  {
   "cell_type": "code",
   "execution_count": 29,
   "id": "ddfefff5-3f05-4875-b956-624e8e1d9929",
   "metadata": {},
   "outputs": [],
   "source": [
    "import re\n",
    "import pandas as pd"
   ]
  },
  {
   "cell_type": "code",
   "execution_count": 15,
   "id": "dd84ae85-f841-4798-9b8f-7d642ea17354",
   "metadata": {},
   "outputs": [],
   "source": [
    "data_file = \"data/vague_contracts.csv\""
   ]
  },
  {
   "cell_type": "code",
   "execution_count": 16,
   "id": "f23882d3-a44e-4c33-914d-9895dcda5854",
   "metadata": {},
   "outputs": [],
   "source": [
    "contracts = pd.read_csv(data_file, index_col = [\"Title\"])"
   ]
  },
  {
   "cell_type": "code",
   "execution_count": 17,
   "id": "4c69544c-6064-4c7f-a7d0-324cde8f04b7",
   "metadata": {},
   "outputs": [],
   "source": [
    "sample = contracts.sample(5)"
   ]
  },
  {
   "cell_type": "code",
   "execution_count": 18,
   "id": "5d7b0a9d-a3af-4fc9-a29d-f2ff051cc13e",
   "metadata": {},
   "outputs": [],
   "source": [
    "sample.to_csv(\"sample.csv\")"
   ]
  },
  {
   "cell_type": "code",
   "execution_count": 19,
   "id": "f52c7b0a-ab55-4449-969d-438c4878c239",
   "metadata": {},
   "outputs": [
    {
     "data": {
      "text/plain": [
       "Index(['item', 'version', 'header', 'continuation', 'name_gender', 'notes',\n",
       "       'locus_of_uncertainty', 'locus_of_uncertainty_location'],\n",
       "      dtype='object')"
      ]
     },
     "execution_count": 19,
     "metadata": {},
     "output_type": "execute_result"
    }
   ],
   "source": [
    "sample.columns"
   ]
  },
  {
   "cell_type": "code",
   "execution_count": 20,
   "id": "23194299-2d86-4e8f-ad7d-b344af5c8602",
   "metadata": {},
   "outputs": [],
   "source": [
    "def print_example(item):\n",
    "    print(f\"\"\"\n",
    "        {item['item']}\n",
    "        {item.header}\n",
    "        {item.locus_of_uncertainty}\n",
    "        {item.continuation}\n",
    "    \"\"\")"
   ]
  },
  {
   "cell_type": "code",
   "execution_count": 124,
   "id": "aa47f2ad-f725-45d8-8439-fc84bcfab948",
   "metadata": {},
   "outputs": [],
   "source": [
    "def clean_item(item): \n",
    "    def remove_html_bold(text):\n",
    "        return re.sub(r\"(<b>|</b>)\", \"\", text)\n",
    "\n",
    "    return pd.Series({\n",
    "        \"item\" : remove_html_bold(item[\"item\"]), \n",
    "        \"header\" : remove_html_bold(item.header), \n",
    "        \"continuation\": remove_html_bold(item.continuation),\n",
    "        \"locus_of_uncertainty\": remove_html_bold(item.locus_of_uncertainty),\n",
    "        \"version\": remove_html_bold(item.version)\n",
    "    })"
   ]
  },
  {
   "cell_type": "code",
   "execution_count": 125,
   "id": "7b3ebbb5-a29e-4264-af82-049007451785",
   "metadata": {},
   "outputs": [
    {
     "name": "stdout",
     "output_type": "stream",
     "text": [
      "\n",
      "        General Damages\n",
      "        Gavin has an insurance policy that includes coverage for \"General Damages,\" which includes losses from <b>\"missed employment due to injuries that occur under regular working conditions.\"</b>\n",
      "        regular working conditions\n",
      "        Gavin works as an A/C repair technician in a small town. One day, Gavin is hired to repair an air conditioner located on the second story of a building. Because Gavin is an experienced repairman, he knows that the safest way to access the unit is with a sturdy ladder. While climbing the ladder, Gavin loses his balance and falls, causing significant injury. Because of this, he subsequently has to stop working for weeks. Gavin files a claim with his insurance company for lost income.\n",
      "    \n"
     ]
    }
   ],
   "source": [
    "print_example(sample.iloc[0])"
   ]
  },
  {
   "cell_type": "code",
   "execution_count": 146,
   "id": "39964649-2650-4956-bc07-8eba2e8bcf09",
   "metadata": {},
   "outputs": [],
   "source": [
    "def make_it_do_you_agree_with_metalinguistic_judgement(item, actor = \"It is\"): \n",
    "    return f\"\"\"{item.header}\n",
    "    {item.continuation}\n",
    "    {actor} decided that the claim is {item.version} under the policy.\n",
    "    Taking the meaning of 'leaking ' as it appears in the policy. Do you agree with the decision? 'Yes' or 'No':\n",
    "    \"\"\""
   ]
  },
  {
   "cell_type": "code",
   "execution_count": 147,
   "id": "7628bc58-7f17-48c4-883b-7274e5f2670d",
   "metadata": {},
   "outputs": [],
   "source": [
    "def make_it_persona_questions(item, persona = \"Insurance Lawyer for Insurance Company\", responsibilities= None):\n",
    "    pass"
   ]
  },
  {
   "cell_type": "code",
   "execution_count": 148,
   "id": "4af366b3-7460-4e07-aea4-1a90cca356f7",
   "metadata": {},
   "outputs": [
    {
     "name": "stdout",
     "output_type": "stream",
     "text": [
      "Gavin has an insurance policy that includes coverage for \"General Damages,\" which includes losses from \"missed employment due to injuries that occur under regular working conditions.\"\n",
      "    Gavin works as an A/C repair technician in a small town. One day, Gavin is hired to repair an air conditioner located on the second story of a building. Because Gavin is an experienced repairman, he knows that the safest way to access the unit is with a sturdy ladder. While climbing the ladder, Gavin loses his balance and falls, causing significant injury. Because of this, he subsequently has to stop working for weeks. Gavin files a claim with his insurance company for lost income.\n",
      "    Taking the meaning of 'regular working conditions' as it appears in the policy.  Answer what should the claim be marked: 'covered' or 'not':\n",
      "    \n",
      "Rebecca has insurance that covers damage from \"Flooding\" to her home, defined as \"an invasion of the property by a large volume of water caused by a rapid build-up from outside the buildings.\"\n",
      "    Rebecca lives in a house situated next to a small creek. The water level of the creek gradually rises over the course of several years, and one day Rebecca notices that water from the creek has begun to collect in her basement and cause significant damage. Rebecca files a claim with her insurance company for the damage.\n",
      "    Taking the meaning of 'rapid build-up' as it appears in the policy.  Answer what should the claim be marked: 'covered' or 'not':\n",
      "    \n",
      "Miranda's home insurance policy includes coverage for \"Escape of Water\" damage, defined as \"damage to buildings and contents caused by a sudden, unforeseen flow of water from an internal source, such as a burst pipe or faulty appliance.\"\n",
      "    Miranda lives in a two-story house, and she keeps her pet goldfish in a large glass bowl on the upper floor. One day, the bowl begins to leak unexpectedly, causing water to seep through her floor and damage her walls. Miranda files a claim with her insurance company for the damage.\n",
      "    Taking the meaning of 'flow of water ' as it appears in the policy.  Answer what should the claim be marked: 'covered' or 'not':\n",
      "    \n",
      "Peter has insurance that covers \"Loss or Damage to a Goods Carrying Vehicle,\" which includes \"key replacement in the case of theft.\"\n",
      "    As part of his bakery business, Peter owns a van which he uses to make local deliveries. One day, Peter is mugged by an individual who takes the key to the van. Replacing the key costs Peter hundreds of dollars. Peter files a claim with his insurance company for his losses.\n",
      "    Taking the meaning of 'key theft ' as it appears in the policy.  Answer what should the claim be marked: 'covered' or 'not':\n",
      "    \n",
      "Madison has insurance that covers home damage from \"Escape of Oil,\" defined as \"oil leaking from a fixed oil-fired heating installation.\"\n",
      "    As Madison is carrying kerosene oil through her kitchen one afternoon, she slips and spills the oil, damaging her hardwood floors. Madison files a claim with her insurance company for the damage.\n",
      "    Taking the meaning of 'leaking ' as it appears in the policy.  Answer what should the claim be marked: 'covered' or 'not':\n",
      "    \n"
     ]
    }
   ],
   "source": [
    "for i, row in enumerate(sample.iloc[0:5, :].apply(lambda x: make_yes_or_no_question_from_item(clean_item(x)), axis=1)):\n",
    "        print(row)"
   ]
  },
  {
   "cell_type": "code",
   "execution_count": 149,
   "id": "5acaa8a5-d4f8-400c-bba5-b8603ec7328f",
   "metadata": {},
   "outputs": [
    {
     "name": "stdout",
     "output_type": "stream",
     "text": [
      "Gavin has an insurance policy that includes coverage for \"General Damages,\" which includes losses from \"missed employment due to injuries that occur under regular working conditions.\"\n",
      "    Gavin works as an A/C repair technician in a small town. One day, Gavin is hired to repair an air conditioner located on the second story of a building. Because Gavin is an experienced repairman, he knows that the safest way to access the unit is with a sturdy ladder. While climbing the ladder, Gavin loses his balance and falls, causing significant injury. Because of this, he subsequently has to stop working for weeks. Gavin files a claim with his insurance company for lost income.\n",
      "    It is decided that the claim is unambiguous_covered under the policy.\n",
      "    Taking the meaning of 'leaking ' as it appears in the policy. Do you agree with the decision? 'Yes' or 'No':\n",
      "    \n",
      "Rebecca has insurance that covers damage from \"Flooding\" to her home, defined as \"an invasion of the property by a large volume of water caused by a rapid build-up from outside the buildings.\"\n",
      "    Rebecca lives in a house situated next to a small creek. The water level of the creek gradually rises over the course of several years, and one day Rebecca notices that water from the creek has begun to collect in her basement and cause significant damage. Rebecca files a claim with her insurance company for the damage.\n",
      "    It is decided that the claim is unambiguous_uncovered under the policy.\n",
      "    Taking the meaning of 'leaking ' as it appears in the policy. Do you agree with the decision? 'Yes' or 'No':\n",
      "    \n",
      "Miranda's home insurance policy includes coverage for \"Escape of Water\" damage, defined as \"damage to buildings and contents caused by a sudden, unforeseen flow of water from an internal source, such as a burst pipe or faulty appliance.\"\n",
      "    Miranda lives in a two-story house, and she keeps her pet goldfish in a large glass bowl on the upper floor. One day, the bowl begins to leak unexpectedly, causing water to seep through her floor and damage her walls. Miranda files a claim with her insurance company for the damage.\n",
      "    It is decided that the claim is unambiguous_uncovered under the policy.\n",
      "    Taking the meaning of 'leaking ' as it appears in the policy. Do you agree with the decision? 'Yes' or 'No':\n",
      "    \n",
      "Peter has insurance that covers \"Loss or Damage to a Goods Carrying Vehicle,\" which includes \"key replacement in the case of theft.\"\n",
      "    As part of his bakery business, Peter owns a van which he uses to make local deliveries. One day, Peter is mugged by an individual who takes the key to the van. Replacing the key costs Peter hundreds of dollars. Peter files a claim with his insurance company for his losses.\n",
      "    It is decided that the claim is unambiguous_covered under the policy.\n",
      "    Taking the meaning of 'leaking ' as it appears in the policy. Do you agree with the decision? 'Yes' or 'No':\n",
      "    \n",
      "Madison has insurance that covers home damage from \"Escape of Oil,\" defined as \"oil leaking from a fixed oil-fired heating installation.\"\n",
      "    As Madison is carrying kerosene oil through her kitchen one afternoon, she slips and spills the oil, damaging her hardwood floors. Madison files a claim with her insurance company for the damage.\n",
      "    It is decided that the claim is unambiguous_uncovered under the policy.\n",
      "    Taking the meaning of 'leaking ' as it appears in the policy. Do you agree with the decision? 'Yes' or 'No':\n",
      "    \n"
     ]
    }
   ],
   "source": [
    "for i, row in enumerate(sample.iloc[0:5, :].apply(lambda x: make_it_do_you_agree_with_metalinguistic_judgement(clean_item(x)), axis=1)):\n",
    "        print(row)"
   ]
  },
  {
   "cell_type": "code",
   "execution_count": null,
   "id": "6c1ecc35-bbae-471e-8092-435ec93215eb",
   "metadata": {},
   "outputs": [],
   "source": []
  },
  {
   "cell_type": "code",
   "execution_count": null,
   "id": "2bdd4134-dcef-40ef-bfee-41f74432143c",
   "metadata": {},
   "outputs": [],
   "source": []
  }
 ],
 "metadata": {
  "kernelspec": {
   "display_name": "prej-prompt",
   "language": "python",
   "name": "prej-prompt"
  },
  "language_info": {
   "codemirror_mode": {
    "name": "ipython",
    "version": 3
   },
   "file_extension": ".py",
   "mimetype": "text/x-python",
   "name": "python",
   "nbconvert_exporter": "python",
   "pygments_lexer": "ipython3",
   "version": "3.10.0"
  }
 },
 "nbformat": 4,
 "nbformat_minor": 5
}
