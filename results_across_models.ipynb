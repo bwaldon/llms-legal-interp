{
 "cells": [
  {
   "cell_type": "code",
   "execution_count": 1,
   "id": "3249fd0c-3251-40b2-b6be-72bbc126ffca",
   "metadata": {},
   "outputs": [
    {
     "name": "stderr",
     "output_type": "stream",
     "text": [
      "/Users/ab-purushothama-macbook/.conda/envs/prej-prompt/lib/python3.10/site-packages/tqdm/auto.py:21: TqdmWarning: IProgress not found. Please update jupyter and ipywidgets. See https://ipywidgets.readthedocs.io/en/stable/user_install.html\n",
      "  from .autonotebook import tqdm as notebook_tqdm\n"
     ]
    }
   ],
   "source": [
    "import pandas as pd\n",
    "import numpy as np\n",
    "import matplotlib.pyplot as plt\n",
    "import seaborn as sns\n",
    "import scipy as sp\n",
    "import output_processing as op\n",
    "from functools import reduce"
   ]
  },
  {
   "cell_type": "code",
   "execution_count": 2,
   "id": "b734d872-7e1a-48f9-b255-b3e85e5f58e5",
   "metadata": {},
   "outputs": [],
   "source": [
    "prompt_types = [\"yes_or_no\", \"no_or_yes\", \"agreement\", \"agreement_negation\", \"disagreement\", \"disagreement_negation\", \"options\", \"options_flipped\"]"
   ]
  },
  {
   "cell_type": "code",
   "execution_count": 8,
   "id": "e5fb37e8-e19c-44b3-b0b9-97689fc1defb",
   "metadata": {},
   "outputs": [
    {
     "name": "stdout",
     "output_type": "stream",
     "text": [
      "                       mean_divergence                             model\n",
      "prompt_type                                                             \n",
      "no_or_yes                     0.000673  meta-llama/Llama-3.1-8B-Instruct\n",
      "agreement                     0.005827  meta-llama/Llama-3.1-8B-Instruct\n",
      "agreement_negation            0.007292  meta-llama/Llama-3.1-8B-Instruct\n",
      "disagreement                  0.008161  meta-llama/Llama-3.1-8B-Instruct\n",
      "disagreement_negation         0.009153  meta-llama/Llama-3.1-8B-Instruct\n",
      "options                       0.648216  meta-llama/Llama-3.1-8B-Instruct\n",
      "options_flipped               0.648216  meta-llama/Llama-3.1-8B-Instruct\n",
      "                       mean_divergence               model\n",
      "prompt_type                                               \n",
      "no_or_yes                          inf  google/gemma-7b-it\n",
      "agreement                          inf  google/gemma-7b-it\n",
      "agreement_negation            0.000041  google/gemma-7b-it\n",
      "disagreement                  0.000142  google/gemma-7b-it\n",
      "disagreement_negation              inf  google/gemma-7b-it\n",
      "options                       0.666163  google/gemma-7b-it\n",
      "options_flipped               0.666163  google/gemma-7b-it\n"
     ]
    }
   ],
   "source": [
    "models = [\"meta-llama/Llama-3.1-8B-Instruct\", \"google/gemma-7b-it\"]\n",
    "prompt_divergences_across_models = list()\n",
    "# pd.DataFrame({\n",
    "#     'model' : list(), \n",
    "#     'mean_divergence' : list(),\n",
    "#     'prompt_type': list()\n",
    "# })\n",
    "missing_probs_summary = pd.DataFrame()\n",
    "for model_name in models:\n",
    "    model_results = pd.read_csv(f\"runs_05_15/{model_name}-results.csv\")\n",
    "    model_results = op.organize_distribution(model_results)\n",
    "\n",
    "    missing_probs = op.summarize_missing_probs(model_results)\n",
    "    missing_probs[\"model\"] = model_name\n",
    "    \n",
    "    missing_probs_summary = pd.concat([missing_probs_summary, missing_probs])\n",
    "    \n",
    "    divergences = op.get_divergences(model_results)\n",
    "    \n",
    "    prompt_divergences = op.get_divergences_for_prompt_type(divergences)\n",
    "    prompt_divergences[\"model\"] = model_name\n",
    "    print(prompt_divergences)\n",
    "    \n",
    "    prompt_divergences_across_models.append(prompt_divergences)"
   ]
  },
  {
   "cell_type": "code",
   "execution_count": 9,
   "id": "e333830b-8ea4-47f4-b510-3db9b73a713a",
   "metadata": {},
   "outputs": [
    {
     "data": {
      "text/html": [
       "<div>\n",
       "<style scoped>\n",
       "    .dataframe tbody tr th:only-of-type {\n",
       "        vertical-align: middle;\n",
       "    }\n",
       "\n",
       "    .dataframe tbody tr th {\n",
       "        vertical-align: top;\n",
       "    }\n",
       "\n",
       "    .dataframe thead th {\n",
       "        text-align: right;\n",
       "    }\n",
       "</style>\n",
       "<table border=\"1\" class=\"dataframe\">\n",
       "  <thead>\n",
       "    <tr style=\"text-align: right;\">\n",
       "      <th></th>\n",
       "      <th>0</th>\n",
       "    </tr>\n",
       "  </thead>\n",
       "  <tbody>\n",
       "    <tr>\n",
       "      <th>Yes_prob</th>\n",
       "      <td>5</td>\n",
       "    </tr>\n",
       "    <tr>\n",
       "      <th>No_prob</th>\n",
       "      <td>2</td>\n",
       "    </tr>\n",
       "    <tr>\n",
       "      <th>A_prob</th>\n",
       "      <td>0</td>\n",
       "    </tr>\n",
       "    <tr>\n",
       "      <th>B_prob</th>\n",
       "      <td>0</td>\n",
       "    </tr>\n",
       "    <tr>\n",
       "      <th>model</th>\n",
       "      <td>meta-llama/Llama-3.1-8B-Instruct</td>\n",
       "    </tr>\n",
       "    <tr>\n",
       "      <th>Yes_prob</th>\n",
       "      <td>318</td>\n",
       "    </tr>\n",
       "    <tr>\n",
       "      <th>No_prob</th>\n",
       "      <td>409</td>\n",
       "    </tr>\n",
       "    <tr>\n",
       "      <th>A_prob</th>\n",
       "      <td>0</td>\n",
       "    </tr>\n",
       "    <tr>\n",
       "      <th>B_prob</th>\n",
       "      <td>0</td>\n",
       "    </tr>\n",
       "    <tr>\n",
       "      <th>model</th>\n",
       "      <td>google/gemma-7b-it</td>\n",
       "    </tr>\n",
       "  </tbody>\n",
       "</table>\n",
       "</div>"
      ],
      "text/plain": [
       "                                         0\n",
       "Yes_prob                                 5\n",
       "No_prob                                  2\n",
       "A_prob                                   0\n",
       "B_prob                                   0\n",
       "model     meta-llama/Llama-3.1-8B-Instruct\n",
       "Yes_prob                               318\n",
       "No_prob                                409\n",
       "A_prob                                   0\n",
       "B_prob                                   0\n",
       "model                   google/gemma-7b-it"
      ]
     },
     "execution_count": 9,
     "metadata": {},
     "output_type": "execute_result"
    }
   ],
   "source": [
    "missing_probs_summary"
   ]
  },
  {
   "cell_type": "code",
   "execution_count": 10,
   "id": "74b9bb4d-a4f6-4baf-84f1-e68eff73bd5e",
   "metadata": {},
   "outputs": [],
   "source": [
    "prompt_divergences_across_models = pd.concat(prompt_divergences_across_models)"
   ]
  },
  {
   "cell_type": "code",
   "execution_count": 6,
   "id": "803b723a-489d-4aea-b904-c00c1cc63b32",
   "metadata": {},
   "outputs": [
    {
     "data": {
      "text/html": [
       "<div>\n",
       "<style scoped>\n",
       "    .dataframe tbody tr th:only-of-type {\n",
       "        vertical-align: middle;\n",
       "    }\n",
       "\n",
       "    .dataframe tbody tr th {\n",
       "        vertical-align: top;\n",
       "    }\n",
       "\n",
       "    .dataframe thead tr th {\n",
       "        text-align: left;\n",
       "    }\n",
       "\n",
       "    .dataframe thead tr:last-of-type th {\n",
       "        text-align: right;\n",
       "    }\n",
       "</style>\n",
       "<table border=\"1\" class=\"dataframe\">\n",
       "  <thead>\n",
       "    <tr>\n",
       "      <th></th>\n",
       "      <th colspan=\"7\" halign=\"left\">mean_divergence</th>\n",
       "    </tr>\n",
       "    <tr>\n",
       "      <th>prompt_type</th>\n",
       "      <th>no_or_yes</th>\n",
       "      <th>agreement</th>\n",
       "      <th>agreement_negation</th>\n",
       "      <th>disagreement</th>\n",
       "      <th>disagreement_negation</th>\n",
       "      <th>options</th>\n",
       "      <th>options_flipped</th>\n",
       "    </tr>\n",
       "    <tr>\n",
       "      <th>model</th>\n",
       "      <th></th>\n",
       "      <th></th>\n",
       "      <th></th>\n",
       "      <th></th>\n",
       "      <th></th>\n",
       "      <th></th>\n",
       "      <th></th>\n",
       "    </tr>\n",
       "  </thead>\n",
       "  <tbody>\n",
       "    <tr>\n",
       "      <th>meta-llama/Llama-3.1-8B-Instruct</th>\n",
       "      <td>0.000673</td>\n",
       "      <td>0.005827</td>\n",
       "      <td>0.007292</td>\n",
       "      <td>0.008161</td>\n",
       "      <td>0.009153</td>\n",
       "      <td>0.648216</td>\n",
       "      <td>0.648216</td>\n",
       "    </tr>\n",
       "    <tr>\n",
       "      <th>google/gemma-7b-it</th>\n",
       "      <td>inf</td>\n",
       "      <td>inf</td>\n",
       "      <td>0.000041</td>\n",
       "      <td>0.000142</td>\n",
       "      <td>inf</td>\n",
       "      <td>0.666163</td>\n",
       "      <td>0.666163</td>\n",
       "    </tr>\n",
       "  </tbody>\n",
       "</table>\n",
       "</div>"
      ],
      "text/plain": [
       "                                 mean_divergence                               \\\n",
       "prompt_type                            no_or_yes agreement agreement_negation   \n",
       "model                                                                           \n",
       "meta-llama/Llama-3.1-8B-Instruct        0.000673  0.005827           0.007292   \n",
       "google/gemma-7b-it                           inf       inf           0.000041   \n",
       "\n",
       "                                                                               \\\n",
       "prompt_type                      disagreement disagreement_negation   options   \n",
       "model                                                                           \n",
       "meta-llama/Llama-3.1-8B-Instruct     0.008161              0.009153  0.648216   \n",
       "google/gemma-7b-it                   0.000142                   inf  0.666163   \n",
       "\n",
       "                                                  \n",
       "prompt_type                      options_flipped  \n",
       "model                                             \n",
       "meta-llama/Llama-3.1-8B-Instruct        0.648216  \n",
       "google/gemma-7b-it                      0.666163  "
      ]
     },
     "execution_count": 6,
     "metadata": {},
     "output_type": "execute_result"
    }
   ],
   "source": [
    "prompt_divergences_across_models.reset_index().pivot_table(index=\"model\", columns=[\"prompt_type\"], sort=False)"
   ]
  }
 ],
 "metadata": {
  "kernelspec": {
   "display_name": "prej-prompt",
   "language": "python",
   "name": "prej-prompt"
  },
  "language_info": {
   "codemirror_mode": {
    "name": "ipython",
    "version": 3
   },
   "file_extension": ".py",
   "mimetype": "text/x-python",
   "name": "python",
   "nbconvert_exporter": "python",
   "pygments_lexer": "ipython3",
   "version": "3.10.0"
  }
 },
 "nbformat": 4,
 "nbformat_minor": 5
}
