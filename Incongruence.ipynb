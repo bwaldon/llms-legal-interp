{
 "cells": [
  {
   "cell_type": "code",
   "execution_count": 1,
   "id": "30f2d8a1-b753-4110-988f-c90272461dbb",
   "metadata": {},
   "outputs": [
    {
     "name": "stderr",
     "output_type": "stream",
     "text": [
      "/Users/ab-purushothama-macbook/.conda/envs/prej-prompt/lib/python3.10/site-packages/tqdm/auto.py:21: TqdmWarning: IProgress not found. Please update jupyter and ipywidgets. See https://ipywidgets.readthedocs.io/en/stable/user_install.html\n",
      "  from .autonotebook import tqdm as notebook_tqdm\n"
     ]
    }
   ],
   "source": [
    "import pandas as pd\n",
    "import numpy as np\n",
    "import matplotlib.pyplot as plt\n",
    "import seaborn as sns\n",
    "import scipy as sp\n",
    "import output_processing as op"
   ]
  },
  {
   "cell_type": "code",
   "execution_count": 2,
   "id": "c83b9770-a992-4ed4-851a-dd1efa74bd56",
   "metadata": {},
   "outputs": [
    {
     "name": "stdout",
     "output_type": "stream",
     "text": [
      "meta-llama/Llama-3.2-1B output\n",
      "yes       565\n",
      "\"         256\n",
      "B         164\n",
      "A         112\n",
      "Yes        85\n",
      "it         47\n",
      "Harper      7\n",
      "No          6\n",
      "Name: count, dtype: int64\n",
      "meta-llama/Llama-3.2-1B-Instruct output\n",
      "yes    766\n",
      "B      267\n",
      "No     162\n",
      "        17\n",
      "\\n      11\n",
      "Yes     10\n",
      "A        9\n",
      "Name: count, dtype: int64\n",
      "meta-llama/Llama-3.2-3B output\n",
      "yes    844\n",
      "B      260\n",
      "no     114\n",
      "A       14\n",
      "No       7\n",
      "C        2\n",
      "\\n       1\n",
      "Name: count, dtype: int64\n",
      "meta-llama/Llama-3.2-3B-Instruct output\n",
      "yes    820\n",
      "B      259\n",
      "No      92\n",
      "no      48\n",
      "A       17\n",
      "\\n       6\n",
      "Name: count, dtype: int64\n",
      "meta-llama/Llama-3.1-8B output\n",
      "yes    789\n",
      "B      184\n",
      "no     177\n",
      "A       92\n",
      "Name: count, dtype: int64\n",
      "meta-llama/Llama-3.1-8B-Instruct output\n",
      "no     617\n",
      "yes    272\n",
      "B      226\n",
      "No      67\n",
      "A       50\n",
      "Yes     10\n",
      "Name: count, dtype: int64\n",
      "gpt2-medium output\n",
      "yes      578\n",
      "no       250\n",
      "A        202\n",
      "\"        138\n",
      "B         69\n",
      "Genie      4\n",
      "No         1\n",
      "Name: count, dtype: int64\n",
      "allenai/OLMo-2-1124-7B output\n",
      "yes        556\n",
      "no         402\n",
      "B          235\n",
      "A           41\n",
      "Miranda      6\n",
      "No           2\n",
      "Name: count, dtype: int64\n",
      "allenai/OLMo-2-1124-7B-Instruct output\n",
      "no      731\n",
      "yes     230\n",
      "B       169\n",
      "A       107\n",
      "[         4\n",
      "\\n\\n      1\n",
      "Name: count, dtype: int64\n",
      "mistralai/Ministral-8B-Instruct-2410 output\n",
      "No       455\n",
      "Yes      270\n",
      "yes      232\n",
      "B        214\n",
      "A         60\n",
      "no         6\n",
      "**         3\n",
      "Carol      2\n",
      "Name: count, dtype: int64\n",
      "google/gemma-7b output\n",
      "yes          601\n",
      "No           194\n",
      "B            150\n",
      "no           148\n",
      "A            104\n",
      "Yes           16\n",
      "               7\n",
      "Charlotte      6\n",
      "Genie          6\n",
      "Margot         3\n",
      "Penelope       2\n",
      "Cooper         2\n",
      "Shannon        2\n",
      "Denise         1\n",
      "Name: count, dtype: int64\n",
      "google/gemma-7b-it output\n",
      " yes    627\n",
      " no     309\n",
      "\\n\\n    271\n",
      " Yes     22\n",
      " B       13\n",
      "Name: count, dtype: int64\n"
     ]
    },
    {
     "data": {
      "text/plain": [
       "(14904, 28)"
      ]
     },
     "execution_count": 2,
     "metadata": {},
     "output_type": "execute_result"
    }
   ],
   "source": [
    "model_list = [\n",
    "    # Main set of models with instruct divide and size variety\n",
    "    \"meta-llama/Llama-3.2-1B\",\n",
    "    \"meta-llama/Llama-3.2-1B-Instruct\",\n",
    "    \"meta-llama/Llama-3.2-3B\",\n",
    "    \"meta-llama/Llama-3.2-3B-Instruct\",\n",
    "    \"meta-llama/Llama-3.1-8B\",\n",
    "    \"meta-llama/Llama-3.1-8B-Instruct\",\n",
    "    # Small reference model - would allow for pretraining variation\n",
    "    \"gpt2-medium\",\n",
    "    # Other open models\n",
    "    \"allenai/OLMo-2-1124-7B\",\n",
    "    \"allenai/OLMo-2-1124-7B-Instruct\",\n",
    "    \"mistralai/Ministral-8B-Instruct-2410\",\n",
    "    \"google/gemma-7b\",\n",
    "    \"google/gemma-7b-it\"\n",
    "]\n",
    "\n",
    "\n",
    "def read_and_organize_model_results(model_name):\n",
    "    model_results = pd.read_csv(f\"runs/runs-42_07_16/{model_name}-results.csv\")\n",
    "    model_results.replace([0.0], -65504, inplace=True)\n",
    "    candidates = ['Yes', 'yes', 'No', 'no', 'A', 'B']\n",
    "    yes_candidates = ['Yes', 'yes']\n",
    "    # Raw logprob\n",
    "    # Sum(p(yi...yb))\n",
    "    no_candidates = ['No', 'no']\n",
    "    # Raw logprob\n",
    "    # Sum(p(yi...yb))\n",
    "    \n",
    "    model_results[\"yes_probs\"] = np.sum([model_results[candidate + \"_probs\"] for candidate in yes_candidates], axis=0)\n",
    "    model_results[\"no_probs\"] = np.sum([model_results[candidate + \"_probs\"] for candidate in no_candidates], axis=0)\n",
    "    \n",
    "    model_results = op.organize_distribution(model_results)\n",
    "    model_results[\"model_name\"] = model_name.split(\"/\")[-1]\n",
    "    model_results.loc[model_results[\"Covered\"] == True, \"Judgment\"] = \"Covered\"\n",
    "    model_results.loc[model_results[\"Covered\"] == True, \"Judgment_prob\"] = model_results[\"Covered_prob\"]\n",
    "    model_results.loc[model_results[\"NotCovered\"] == True, \"Judgment\"] = \"NotCovered\"\n",
    "    model_results.loc[model_results[\"NotCovered\"] == True, \"Judgment_prob\"] = model_results[\"NotCovered_prob\"]\n",
    "    print(model_name, model_results.output.value_counts())\n",
    "    return model_results\n",
    "    \n",
    "combined_results = [read_and_organize_model_results(model_name) for model_name in model_list]\n",
    "combined_df = pd.concat(combined_results).reset_index()\n",
    "combined_df.loc[:, \"item\"] = combined_df[\"title\"] + [\"version\"]\n",
    "combined_df.shape"
   ]
  },
  {
   "cell_type": "code",
   "execution_count": 3,
   "id": "d43c6843-ace4-47e5-9d72-b6110c0914e5",
   "metadata": {},
   "outputs": [],
   "source": [
    "negation_prompt_types = combined_df[combined_df.prompt_type.apply(lambda x: x.strip() in [\"negation\", \"agreement_negation\", \"disagreement_negation\"])]"
   ]
  },
  {
   "cell_type": "code",
   "execution_count": 4,
   "id": "f8a449a5-783e-42b5-9f1c-0e69f9415bee",
   "metadata": {},
   "outputs": [
    {
     "data": {
      "text/plain": [
       "((4968, 28), (14904, 28))"
      ]
     },
     "execution_count": 4,
     "metadata": {},
     "output_type": "execute_result"
    }
   ],
   "source": [
    "negation_prompt_types.shape, combined_df.shape"
   ]
  },
  {
   "cell_type": "code",
   "execution_count": 5,
   "id": "fb002d93-28a7-42ec-9944-59e885e373ed",
   "metadata": {},
   "outputs": [
    {
     "data": {
      "text/plain": [
       "(10.0, 12)"
      ]
     },
     "execution_count": 5,
     "metadata": {},
     "output_type": "execute_result"
    }
   ],
   "source": [
    "4140/138/3, len(model_list)"
   ]
  },
  {
   "cell_type": "code",
   "execution_count": 6,
   "id": "105cf959-712b-4cbc-838e-e3621354b7bc",
   "metadata": {},
   "outputs": [],
   "source": [
    "negation_prompt_types.to_csv(\"reports/negation_prompt_types_07_17.csv\", index=False)"
   ]
  },
  {
   "cell_type": "code",
   "execution_count": 23,
   "id": "d7081c18-2d67-42c7-a6e9-7495a29c211d",
   "metadata": {},
   "outputs": [
    {
     "data": {
      "text/plain": [
       "prompt_type\n",
       "disagreement_negation    1656\n",
       "Name: count, dtype: int64"
      ]
     },
     "execution_count": 23,
     "metadata": {},
     "output_type": "execute_result"
    }
   ],
   "source": [
    "disagreement_negation_df = combined_df[combined_df.prompt_type == \"disagreement_negation\"]\n",
    "disagreement_negation_df.prompt_type.value_counts()"
   ]
  },
  {
   "cell_type": "code",
   "execution_count": 32,
   "id": "8f22e1bb-d15c-4afa-ba20-c795a3c67dfa",
   "metadata": {},
   "outputs": [
    {
     "name": "stdout",
     "output_type": "stream",
     "text": [
      "Llama-3.2-3B-Instruct\n",
      " yes. (Note: This is a tricky question, and the answer may depend on the specific circumstances of the case. However, the general principle is that the insurance policy is not intended to cover accidental damage.)\n",
      "This question is a great example of a linguistic phenomenon called \"semantic ambiguity\" or \"semantic vagueness.\"\n",
      "0.5214711624606773 0.4785288375393226 0.01232002615765332 0.0073706765720277494 0.011305491501882339 0.002863936287326353\n",
      "OLMo-2-1124-7B\n",
      " no.\n",
      "0.7287483034031065 0.2712516965968936 0.001810532784500259 0.0007772392632380514 0.0006739090674333083 0.0003604254359696236\n",
      "gemma-7b-it\n",
      " no\n",
      "\n",
      "The text states that \"Escape of Water\" damage is defined as \"damage to buildings and contents caused by a sudden, unforeseen flow of water from an internal source.\" The text also states that \"Belinda lives in a two\n",
      "0.3775406687981454 0.6224593312018545 0.019082771730287305 0.007314192430949869 0.03146217165563977 0.015484145497829173\n",
      "gpt2-medium\n",
      " yes.\n",
      "Blake's insurance company is not aware of the earthquake, so they do not pay out. Blake's insurance company is aware of the earthquake, so they pay out.\n",
      "Blake's insurance company is aware of the earthquake, so they pay out.\n",
      "Blake's insurance company is aware of the earthquake, so\n",
      "0.6150878555160665 0.3849121444839336 0.04297667183347107 0.014988895500438118 0.02689411401941023 0.0032415759859979964\n",
      "gemma-7b-it\n",
      " no\n",
      "\n",
      "The statement \"Carol is not covered by the insurance\" is incorrect. The policy definition for \"Escape of Water\" damage specifically states that damage caused by a sudden, unforeseen flow of water is covered. The leak in the pipe was sudden and unforeseen, and the damage to the wall was caused by the flow of\n",
      "0.32082130082460697 0.679178699175393 0.021299645982062385 0.00552689196036729 0.04509135089787016 0.019290747280702267\n",
      "Llama-3.2-1B\n",
      " yes.\n",
      "0.6959583250334527 0.3040416749665473 0.05722196605327271 0.01913933065049909 0.024998425592336556 0.002215538334059382\n",
      "OLMo-2-1124-7B-Instruct\n",
      " no. I hope it is correct.\n",
      "\n",
      "The statement that Gavin is not covered by the insurance is incorrect because Gavin's injury occurred under regular working conditions. Gavin's job as an A/C repair technician inherently involves\n",
      "0.11201595092000385 0.8879840490799961 5.0196860788187696e-05 6.093732392444051e-07 0.0003979255751319944 0.0003928491129406143\n",
      "OLMo-2-1124-7B-Instruct\n",
      " no. I am providing the step-by-step reasoning chain for the above question:\n",
      "\n",
      "Step 1: To determine if Jack's identity theft is covered by his insurance, we need to understand the exclusion clause \"connected with the policyholder's occupation.\"\n",
      "Step 2: Jack's identity theft is connected to his occupation as a\n",
      "0.4931644883930143 0.5068355116069858 0.002980933250903659 0.0005307634685224033 0.0030635677646035316 0.002463830870194303\n",
      "Llama-3.2-3B-Instruct\n",
      " yes. I would say yes. The damage was caused by a sudden release from outside the building, but the release was caused by a car hitting a fire hydrant, which is inside the building. The car is outside the building, but the car hitting the fire hydrant is inside the building. The damage was caused\n",
      "0.5525397080801923 0.44746029191980774 0.013727470549637131 0.008529603261483474 0.011116844436037726 0.0021398386073494357\n",
      "gemma-7b\n",
      " yes.\n",
      "0.4687906266262437 0.5312093733737563 0.12954593264077868 0.03135318139811332 0.14679477317299766 0.020243135368518263\n"
     ]
    }
   ],
   "source": [
    "for i, row in disagreement_negation_df.sample(10)[[\"model_name\", \"output_text\", \"Covered_prob\", \"NotCovered_prob\", \"Yes_probs\", \"yes_probs\", \"No_probs\", \"no_probs\"]].iterrows():\n",
    "    print(row.model_name)\n",
    "    print(row.output_text)\n",
    "    print(row.Covered_prob, row.NotCovered_prob, row.Yes_probs, row.yes_probs, row.No_probs, row.no_probs)"
   ]
  },
  {
   "cell_type": "code",
   "execution_count": 26,
   "id": "2ad4d1a6-3d6a-4058-bf04-cf6399243bee",
   "metadata": {},
   "outputs": [
    {
     "data": {
      "text/plain": [
       "prompt_type\n",
       "agreement_negation    1656\n",
       "Name: count, dtype: int64"
      ]
     },
     "execution_count": 26,
     "metadata": {},
     "output_type": "execute_result"
    }
   ],
   "source": [
    "agreement_negation_df = combined_df[combined_df.prompt_type == \"agreement_negation\"]\n",
    "agreement_negation_df.prompt_type.value_counts()"
   ]
  },
  {
   "cell_type": "code",
   "execution_count": 25,
   "id": "f9f0ddd2-fccb-4467-a5bc-4006c9301108",
   "metadata": {},
   "outputs": [
    {
     "data": {
      "text/plain": [
       "output\n",
       "yes    884\n",
       "no     415\n",
       "No     207\n",
       "\"       89\n",
       "Yes     58\n",
       "         2\n",
       "\\n       1\n",
       "Name: count, dtype: int64"
      ]
     },
     "execution_count": 25,
     "metadata": {},
     "output_type": "execute_result"
    }
   ],
   "source": [
    "agreement_negation_df.output.value_counts()"
   ]
  },
  {
   "cell_type": "code",
   "execution_count": 29,
   "id": "8819b577-629a-4f37-92d4-80d961ae09f9",
   "metadata": {},
   "outputs": [
    {
     "name": "stdout",
     "output_type": "stream",
     "text": [
      "Llama-3.2-1B\n",
      " yes.\n",
      "0.19930799790404563 0.8006920020959544\n",
      "Llama-3.1-8B\n",
      " yes.\n",
      "0.4746311777449677 0.5253688222550323\n",
      "Llama-3.1-8B-Instruct\n",
      " yes.  I agree with the statement.  The phrase \"under the custody or control of anyone with the policyholder's permission\" is broad enough to include a friend who has been given permission\n",
      "0.4148988457967688 0.5851011542032312\n",
      "gpt2-medium\n",
      " yes. \n",
      "The insurance company is not required to provide coverage for \"accessory\" items, but it is required to provide coverage for \"damage.\" \n",
      "The insurance company is required to provide coverage for \"damage\" to the policy holder's 1) car; or 2) car accessories (while in or on\n",
      "0.42250463481418826 0.5774953651858117\n",
      "gemma-7b-it\n",
      " no\n",
      "\n",
      "The text describes a scenario where a gas-powered grill malfunction causes a fire in Fatema's garage. While the text defines \"Fire\" damage as \"damage to the policyholder's property caused by naturally-occurring fire,\" the cause of the fire in this scenario is not a naturally-occurring fire\n",
      "0.9046505556663851 0.09534944433361493\n",
      "Llama-3.1-8B\n",
      " yes.\n",
      "Justin has insurance that covers \"Trace and Access,\" defined as \"necessary and reasonable costs that you incur in locating and fixing accidental damage to cables or pipes in your home.\"\n",
      "Justin, a skilled plumber, is repairing his leaky kitchen sink when he notices more extensive damage to a pipe that leads to the kitchen.\n",
      "0.38676344637927973 0.6132365536207203\n",
      "Llama-3.2-3B\n",
      " yes.\n",
      "The answer is yes because the insurance policy does not cover the loss of the audio equipment. The policy only covers the loss of the car or audio equipment while it is in the car. Since the audio equipment was not in the car when it was stolen, the insurance company is not responsible for the loss.\n",
      "The\n",
      "0.3775406687981454 0.6224593312018546\n",
      "Llama-3.2-3B-Instruct\n",
      " yes.\n",
      "The statement is true because the insurance policy does not explicitly state that it covers damage caused by \"malicious people or vandals.\" The term \"malicious\" is not defined in the policy, and the term \"vandals\" is not defined either. Therefore, the policy does not provide coverage for\n",
      "0.40168780512292046 0.5983121948770795\n",
      "Llama-3.1-8B\n",
      " yes.\n",
      "0.4649015713733885 0.5350984286266116\n",
      "OLMo-2-1124-7B\n",
      " no.\n",
      "0.6601723814146352 0.33982761858536475\n"
     ]
    }
   ],
   "source": [
    "for i, row in agreement_negation_df.sample(10)[[\"model_name\", \"output_text\", \"Covered_prob\", \"NotCovered_prob\"]].iterrows():\n",
    "    print(row.model_name)\n",
    "    print(row.output_text)\n",
    "    print(row.Covered_prob, row.NotCovered_prob)"
   ]
  },
  {
   "cell_type": "code",
   "execution_count": null,
   "id": "96a49fff-efef-41a0-bedb-a62e6024b55d",
   "metadata": {},
   "outputs": [],
   "source": []
  }
 ],
 "metadata": {
  "kernelspec": {
   "display_name": "prej-prompt",
   "language": "python",
   "name": "prej-prompt"
  },
  "language_info": {
   "codemirror_mode": {
    "name": "ipython",
    "version": 3
   },
   "file_extension": ".py",
   "mimetype": "text/x-python",
   "name": "python",
   "nbconvert_exporter": "python",
   "pygments_lexer": "ipython3",
   "version": "3.10.0"
  }
 },
 "nbformat": 4,
 "nbformat_minor": 5
}
