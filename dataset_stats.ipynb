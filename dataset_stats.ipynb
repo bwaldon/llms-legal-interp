{
 "cells": [
  {
   "cell_type": "code",
   "execution_count": 31,
   "id": "675a0980-b8d8-4913-a745-db57cb949f76",
   "metadata": {},
   "outputs": [],
   "source": [
    "import pandas as pd\n",
    "import numpy as np\n",
    "import matplotlib.pyplot as plt\n",
    "import seaborn as sns\n",
    "import scipy as sp\n",
    "import output_processing as op\n",
    "from functools import reduce"
   ]
  },
  {
   "cell_type": "code",
   "execution_count": 44,
   "id": "a368cf87-7bd3-4814-89bc-cb79c6e95413",
   "metadata": {},
   "outputs": [],
   "source": [
    "import prompts"
   ]
  },
  {
   "cell_type": "code",
   "execution_count": 45,
   "id": "ec9df726-50f4-4205-b294-550963823c46",
   "metadata": {},
   "outputs": [],
   "source": [
    "dataset = prompts.get_vague_contracts_dataset()"
   ]
  },
  {
   "cell_type": "code",
   "execution_count": 46,
   "id": "96af2902-b152-4642-a001-1cf24ba4c7a9",
   "metadata": {},
   "outputs": [
    {
     "data": {
      "text/plain": [
       "DatasetDict({\n",
       "    test: Dataset({\n",
       "        features: ['title', 'item', 'version', 'header', 'continuation', 'name_gender', 'notes', 'locus_of_uncertainty', 'locus_of_uncertainty_location', 'definition', 'person_name'],\n",
       "        num_rows: 138\n",
       "    })\n",
       "})"
      ]
     },
     "execution_count": 46,
     "metadata": {},
     "output_type": "execute_result"
    }
   ],
   "source": [
    "dataset"
   ]
  },
  {
   "cell_type": "code",
   "execution_count": 47,
   "id": "140189b0-ecdc-4001-8108-0339f5dda894",
   "metadata": {},
   "outputs": [],
   "source": [
    "VAGUE_CONTRACTS_FILE = \"data/clean/vague_contracts.csv\"\n",
    "contracts = pd.read_csv(VAGUE_CONTRACTS_FILE)"
   ]
  },
  {
   "cell_type": "code",
   "execution_count": 48,
   "id": "f03ef290-45a4-4ace-af96-324bc74a7a80",
   "metadata": {},
   "outputs": [],
   "source": [
    "wind_damage = contracts[contracts[\"title\"] == \"Wind Damage\"]"
   ]
  },
  {
   "cell_type": "code",
   "execution_count": 49,
   "id": "0da6cdf1-8562-4a1c-8712-b65fd3484d52",
   "metadata": {},
   "outputs": [
    {
     "data": {
      "text/html": [
       "<div>\n",
       "<style scoped>\n",
       "    .dataframe tbody tr th:only-of-type {\n",
       "        vertical-align: middle;\n",
       "    }\n",
       "\n",
       "    .dataframe tbody tr th {\n",
       "        vertical-align: top;\n",
       "    }\n",
       "\n",
       "    .dataframe thead th {\n",
       "        text-align: right;\n",
       "    }\n",
       "</style>\n",
       "<table border=\"1\" class=\"dataframe\">\n",
       "  <thead>\n",
       "    <tr style=\"text-align: right;\">\n",
       "      <th></th>\n",
       "      <th>title</th>\n",
       "      <th>item</th>\n",
       "      <th>version</th>\n",
       "      <th>header</th>\n",
       "      <th>continuation</th>\n",
       "      <th>name_gender</th>\n",
       "      <th>notes</th>\n",
       "      <th>locus_of_uncertainty</th>\n",
       "      <th>locus_of_uncertainty_location</th>\n",
       "      <th>definition</th>\n",
       "      <th>person_name</th>\n",
       "    </tr>\n",
       "  </thead>\n",
       "  <tbody>\n",
       "    <tr>\n",
       "      <th>78</th>\n",
       "      <td>Wind Damage</td>\n",
       "      <td>Wind Damage</td>\n",
       "      <td>unambiguous_uncovered</td>\n",
       "      <td>Tom's home insurance policy includes coverage ...</td>\n",
       "      <td>Tom's house is located near a large lake. One ...</td>\n",
       "      <td>male</td>\n",
       "      <td>damage from surprise cell phone call</td>\n",
       "      <td>causative \"from\"</td>\n",
       "      <td>definition_exh</td>\n",
       "      <td>damage from wind speeds with gusts of at least...</td>\n",
       "      <td>Tom</td>\n",
       "    </tr>\n",
       "  </tbody>\n",
       "</table>\n",
       "</div>"
      ],
      "text/plain": [
       "          title         item                version  \\\n",
       "78  Wind Damage  Wind Damage  unambiguous_uncovered   \n",
       "\n",
       "                                               header  \\\n",
       "78  Tom's home insurance policy includes coverage ...   \n",
       "\n",
       "                                         continuation name_gender  \\\n",
       "78  Tom's house is located near a large lake. One ...        male   \n",
       "\n",
       "                                    notes locus_of_uncertainty  \\\n",
       "78  damage from surprise cell phone call      causative \"from\"   \n",
       "\n",
       "   locus_of_uncertainty_location  \\\n",
       "78                definition_exh   \n",
       "\n",
       "                                           definition person_name  \n",
       "78  damage from wind speeds with gusts of at least...         Tom  "
      ]
     },
     "execution_count": 49,
     "metadata": {},
     "output_type": "execute_result"
    }
   ],
   "source": [
    "wind_damage[0:1]"
   ]
  },
  {
   "cell_type": "code",
   "execution_count": 50,
   "id": "6122ce2e-344b-42ce-8de5-c2de0c40f761",
   "metadata": {},
   "outputs": [
    {
     "name": "stdout",
     "output_type": "stream",
     "text": [
      "Title & Wind Damage \\\\\n",
      "Item & Wind Damage \\\\\n",
      "Version & unambiguous_uncovered \\\\\n",
      "Header & Tom's home insurance policy includes coverage for \"Wind Damage,\" defined as \"damage from wind speeds with gusts of at least 55 mph.\" \\\\\n",
      "Continuation & Tom's house is located near a large lake. One day, strong winds in excess of 55mph blow across the lake while Tom is working on his roof, but it's a loud and surprising ring from his cell phone that causes him to drop his heavy toolbox and thereby damage the roof. Tom files a claim with his insurance company for the damage.  \\\\\n",
      "Name_Gender & male \\\\\n",
      "Notes & damage from surprise cell phone call  \\\\\n",
      "Locus_Of_Uncertainty & causative \"from\" \\\\\n",
      "Locus_Of_Uncertainty_Location & definition_exh \\\\\n",
      "Definition & damage from wind speeds with gusts of at least 55 mph. \\\\\n",
      "Person_Name & Tom \\\\\n"
     ]
    }
   ],
   "source": [
    "for i, row in wind_damage[0:1].iterrows():\n",
    "    for key in row.index:\n",
    "        print(f\"{key.title()} & {row[key]} \\\\\\\\\") "
   ]
  },
  {
   "cell_type": "code",
   "execution_count": 51,
   "id": "6b1e91ae-a4e8-4362-828b-8b642f67d2d2",
   "metadata": {},
   "outputs": [
    {
     "name": "stdout",
     "output_type": "stream",
     "text": [
      "DatasetDict({\n",
      "    test: Dataset({\n",
      "        features: ['title', 'item', 'version', 'header', 'continuation', 'name_gender', 'notes', 'locus_of_uncertainty', 'locus_of_uncertainty_location', 'definition', 'person_name'],\n",
      "        num_rows: 138\n",
      "    })\n",
      "})\n"
     ]
    }
   ],
   "source": [
    "print(dataset)"
   ]
  },
  {
   "cell_type": "code",
   "execution_count": 52,
   "id": "366a1218-8b9f-4ea1-96f9-e5a5e299dd96",
   "metadata": {},
   "outputs": [
    {
     "name": "stderr",
     "output_type": "stream",
     "text": [
      "  0%|                                                                                     | 0/8 [00:00<?, ?it/s]\n",
      "Map: 100%|███████████████████████████████████████████████████████████| 138/138 [00:00<00:00, 2593.65 examples/s]\u001b[A\n"
     ]
    },
    {
     "name": "stdout",
     "output_type": "stream",
     "text": [
      "yes_or_no Dataset({\n",
      "    features: ['title', 'item', 'version', 'header', 'continuation', 'name_gender', 'notes', 'locus_of_uncertainty', 'locus_of_uncertainty_location', 'definition', 'person_name', 'prompt', 'prompt_type'],\n",
      "    num_rows: 138\n",
      "})\n"
     ]
    },
    {
     "name": "stderr",
     "output_type": "stream",
     "text": [
      "\n",
      "Map: 100%|███████████████████████████████████████████████████████████| 138/138 [00:00<00:00, 4358.93 examples/s]\u001b[A\n",
      " 25%|███████████████████▎                                                         | 2/8 [00:00<00:00, 19.88it/s]"
     ]
    },
    {
     "name": "stdout",
     "output_type": "stream",
     "text": [
      "no_or_yes Dataset({\n",
      "    features: ['title', 'item', 'version', 'header', 'continuation', 'name_gender', 'notes', 'locus_of_uncertainty', 'locus_of_uncertainty_location', 'definition', 'person_name', 'prompt', 'prompt_type'],\n",
      "    num_rows: 138\n",
      "})\n"
     ]
    },
    {
     "name": "stderr",
     "output_type": "stream",
     "text": [
      "\n",
      "Map: 100%|███████████████████████████████████████████████████████████| 138/138 [00:00<00:00, 3808.81 examples/s]\u001b[A\n"
     ]
    },
    {
     "name": "stdout",
     "output_type": "stream",
     "text": [
      "agreement Dataset({\n",
      "    features: ['title', 'item', 'version', 'header', 'continuation', 'name_gender', 'notes', 'locus_of_uncertainty', 'locus_of_uncertainty_location', 'definition', 'person_name', 'prompt', 'prompt_type'],\n",
      "    num_rows: 138\n",
      "})\n"
     ]
    },
    {
     "name": "stderr",
     "output_type": "stream",
     "text": [
      "\n",
      "Map: 100%|███████████████████████████████████████████████████████████| 138/138 [00:00<00:00, 4041.12 examples/s]\u001b[A\n"
     ]
    },
    {
     "name": "stdout",
     "output_type": "stream",
     "text": [
      "agreement_negation Dataset({\n",
      "    features: ['title', 'item', 'version', 'header', 'continuation', 'name_gender', 'notes', 'locus_of_uncertainty', 'locus_of_uncertainty_location', 'definition', 'person_name', 'prompt', 'prompt_type'],\n",
      "    num_rows: 138\n",
      "})\n"
     ]
    },
    {
     "name": "stderr",
     "output_type": "stream",
     "text": [
      "\n",
      "Map: 100%|███████████████████████████████████████████████████████████| 138/138 [00:00<00:00, 3149.39 examples/s]\u001b[A\n",
      " 62%|████████████████████████████████████████████████▏                            | 5/8 [00:00<00:00, 21.12it/s]"
     ]
    },
    {
     "name": "stdout",
     "output_type": "stream",
     "text": [
      "disagreement Dataset({\n",
      "    features: ['title', 'item', 'version', 'header', 'continuation', 'name_gender', 'notes', 'locus_of_uncertainty', 'locus_of_uncertainty_location', 'definition', 'person_name', 'prompt', 'prompt_type'],\n",
      "    num_rows: 138\n",
      "})\n"
     ]
    },
    {
     "name": "stderr",
     "output_type": "stream",
     "text": [
      "\n",
      "Map: 100%|███████████████████████████████████████████████████████████| 138/138 [00:00<00:00, 4748.50 examples/s]\u001b[A\n"
     ]
    },
    {
     "name": "stdout",
     "output_type": "stream",
     "text": [
      "disagreement_negation Dataset({\n",
      "    features: ['title', 'item', 'version', 'header', 'continuation', 'name_gender', 'notes', 'locus_of_uncertainty', 'locus_of_uncertainty_location', 'definition', 'person_name', 'prompt', 'prompt_type'],\n",
      "    num_rows: 138\n",
      "})\n"
     ]
    },
    {
     "name": "stderr",
     "output_type": "stream",
     "text": [
      "\n",
      "Map: 100%|███████████████████████████████████████████████████████████| 138/138 [00:00<00:00, 4808.06 examples/s]\u001b[A\n"
     ]
    },
    {
     "name": "stdout",
     "output_type": "stream",
     "text": [
      "options Dataset({\n",
      "    features: ['title', 'item', 'version', 'header', 'continuation', 'name_gender', 'notes', 'locus_of_uncertainty', 'locus_of_uncertainty_location', 'definition', 'person_name', 'prompt', 'prompt_type'],\n",
      "    num_rows: 138\n",
      "})\n"
     ]
    },
    {
     "name": "stderr",
     "output_type": "stream",
     "text": [
      "\n",
      "Map: 100%|███████████████████████████████████████████████████████████| 138/138 [00:00<00:00, 4567.12 examples/s]\u001b[A\n",
      "100%|█████████████████████████████████████████████████████████████████████████████| 8/8 [00:00<00:00, 22.95it/s]\n"
     ]
    },
    {
     "name": "stdout",
     "output_type": "stream",
     "text": [
      "options_flipped Dataset({\n",
      "    features: ['title', 'item', 'version', 'header', 'continuation', 'name_gender', 'notes', 'locus_of_uncertainty', 'locus_of_uncertainty_location', 'definition', 'person_name', 'prompt', 'prompt_type'],\n",
      "    num_rows: 138\n",
      "})\n",
      "Dataset({\n",
      "    features: ['title', 'item', 'version', 'header', 'continuation', 'name_gender', 'notes', 'locus_of_uncertainty', 'locus_of_uncertainty_location', 'definition', 'person_name', 'prompt', 'prompt_type'],\n",
      "    num_rows: 1104\n",
      "})\n"
     ]
    }
   ],
   "source": [
    "print(prompts.get_dataset_for_coverage_questions())"
   ]
  },
  {
   "cell_type": "code",
   "execution_count": 55,
   "id": "ecb6cf87-6d94-448c-8bf7-f3a0527187b0",
   "metadata": {},
   "outputs": [],
   "source": [
    "random_distributions = np.random.rand(1, 3)"
   ]
  },
  {
   "cell_type": "code",
   "execution_count": 56,
   "id": "033813e0-f0ec-4778-a2eb-570cb6c011cc",
   "metadata": {},
   "outputs": [
    {
     "data": {
      "text/plain": [
       "array([[0.44538032, 0.85350054, 0.20687659]])"
      ]
     },
     "execution_count": 56,
     "metadata": {},
     "output_type": "execute_result"
    }
   ],
   "source": [
    "random_distributions"
   ]
  },
  {
   "cell_type": "code",
   "execution_count": null,
   "id": "1d3be7f6-473c-418a-856d-f20ed6d26111",
   "metadata": {},
   "outputs": [],
   "source": []
  },
  {
   "cell_type": "code",
   "execution_count": null,
   "id": "9aef9763-fa28-4b8a-9927-851d3c44a1d4",
   "metadata": {},
   "outputs": [],
   "source": []
  }
 ],
 "metadata": {
  "kernelspec": {
   "display_name": "prej-prompt",
   "language": "python",
   "name": "prej-prompt"
  },
  "language_info": {
   "codemirror_mode": {
    "name": "ipython",
    "version": 3
   },
   "file_extension": ".py",
   "mimetype": "text/x-python",
   "name": "python",
   "nbconvert_exporter": "python",
   "pygments_lexer": "ipython3",
   "version": "3.10.0"
  }
 },
 "nbformat": 4,
 "nbformat_minor": 5
}
