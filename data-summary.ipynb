{
 "cells": [
  {
   "cell_type": "code",
   "execution_count": 1,
   "id": "debb8aaf-97f4-4d27-aea5-ea1c4e5d8945",
   "metadata": {},
   "outputs": [],
   "source": [
    "import re\n",
    "import pandas as pd"
   ]
  },
  {
   "cell_type": "markdown",
   "id": "9f5d1740-1427-4ebb-8f9a-399a3ae2fe33",
   "metadata": {},
   "source": [
    "# Contracts and Prompts"
   ]
  },
  {
   "cell_type": "code",
   "execution_count": 2,
   "id": "85da13f1-d4d2-438e-894d-487f1be90e12",
   "metadata": {},
   "outputs": [],
   "source": [
    "# Contracts\n",
    "contracts_file = \"data/clean/vague_contracts.csv\""
   ]
  },
  {
   "cell_type": "code",
   "execution_count": 4,
   "id": "6d633d6e-b5f8-4219-9324-5bb601dfb282",
   "metadata": {},
   "outputs": [],
   "source": [
    "contracts = pd.read_csv(contracts_file, index_col=[\"title\"])"
   ]
  },
  {
   "cell_type": "code",
   "execution_count": 6,
   "id": "f6a69906-f967-4b64-bde5-9bb3bf6e3a69",
   "metadata": {},
   "outputs": [
    {
     "name": "stdout",
     "output_type": "stream",
     "text": [
      "<class 'pandas.core.frame.DataFrame'>\n",
      "Index: 138 entries, Emergency Damages I to Vehicle Glass II\n",
      "Data columns (total 10 columns):\n",
      " #   Column                         Non-Null Count  Dtype \n",
      "---  ------                         --------------  ----- \n",
      " 0   item                           138 non-null    object\n",
      " 1   version                        138 non-null    object\n",
      " 2   header                         138 non-null    object\n",
      " 3   continuation                   138 non-null    object\n",
      " 4   name_gender                    138 non-null    object\n",
      " 5   notes                          138 non-null    object\n",
      " 6   locus_of_uncertainty           138 non-null    object\n",
      " 7   locus_of_uncertainty_location  138 non-null    object\n",
      " 8   definition                     138 non-null    object\n",
      " 9   person_name                    138 non-null    object\n",
      "dtypes: object(10)\n",
      "memory usage: 11.9+ KB\n"
     ]
    }
   ],
   "source": [
    "contracts.info()"
   ]
  },
  {
   "cell_type": "code",
   "execution_count": 7,
   "id": "724f2c93-481c-4dd1-9c9d-1a671dbcfae1",
   "metadata": {},
   "outputs": [
    {
     "data": {
      "text/html": [
       "<div>\n",
       "<style scoped>\n",
       "    .dataframe tbody tr th:only-of-type {\n",
       "        vertical-align: middle;\n",
       "    }\n",
       "\n",
       "    .dataframe tbody tr th {\n",
       "        vertical-align: top;\n",
       "    }\n",
       "\n",
       "    .dataframe thead th {\n",
       "        text-align: right;\n",
       "    }\n",
       "</style>\n",
       "<table border=\"1\" class=\"dataframe\">\n",
       "  <thead>\n",
       "    <tr style=\"text-align: right;\">\n",
       "      <th></th>\n",
       "      <th>item</th>\n",
       "      <th>version</th>\n",
       "      <th>header</th>\n",
       "      <th>continuation</th>\n",
       "      <th>name_gender</th>\n",
       "      <th>notes</th>\n",
       "      <th>locus_of_uncertainty</th>\n",
       "      <th>locus_of_uncertainty_location</th>\n",
       "      <th>definition</th>\n",
       "      <th>person_name</th>\n",
       "    </tr>\n",
       "  </thead>\n",
       "  <tbody>\n",
       "    <tr>\n",
       "      <th>count</th>\n",
       "      <td>138</td>\n",
       "      <td>138</td>\n",
       "      <td>138</td>\n",
       "      <td>138</td>\n",
       "      <td>138</td>\n",
       "      <td>138</td>\n",
       "      <td>138</td>\n",
       "      <td>138</td>\n",
       "      <td>138</td>\n",
       "      <td>138</td>\n",
       "    </tr>\n",
       "    <tr>\n",
       "      <th>unique</th>\n",
       "      <td>25</td>\n",
       "      <td>3</td>\n",
       "      <td>46</td>\n",
       "      <td>138</td>\n",
       "      <td>3</td>\n",
       "      <td>128</td>\n",
       "      <td>45</td>\n",
       "      <td>3</td>\n",
       "      <td>42</td>\n",
       "      <td>46</td>\n",
       "    </tr>\n",
       "    <tr>\n",
       "      <th>top</th>\n",
       "      <td>Vehicle Damage</td>\n",
       "      <td>unambiguous_uncovered</td>\n",
       "      <td>Joanne's home insurance covers \"Emergency Dama...</td>\n",
       "      <td>Late one night, Joanne hears loud crashing noi...</td>\n",
       "      <td>male</td>\n",
       "      <td>yes flammable combustable</td>\n",
       "      <td>audio equipment</td>\n",
       "      <td>definition_exh</td>\n",
       "      <td>damage to buildings and contents caused by a s...</td>\n",
       "      <td>Joanne</td>\n",
       "    </tr>\n",
       "    <tr>\n",
       "      <th>freq</th>\n",
       "      <td>15</td>\n",
       "      <td>46</td>\n",
       "      <td>3</td>\n",
       "      <td>1</td>\n",
       "      <td>69</td>\n",
       "      <td>2</td>\n",
       "      <td>9</td>\n",
       "      <td>105</td>\n",
       "      <td>9</td>\n",
       "      <td>3</td>\n",
       "    </tr>\n",
       "  </tbody>\n",
       "</table>\n",
       "</div>"
      ],
      "text/plain": [
       "                  item                version  \\\n",
       "count              138                    138   \n",
       "unique              25                      3   \n",
       "top     Vehicle Damage  unambiguous_uncovered   \n",
       "freq                15                     46   \n",
       "\n",
       "                                                   header  \\\n",
       "count                                                 138   \n",
       "unique                                                 46   \n",
       "top     Joanne's home insurance covers \"Emergency Dama...   \n",
       "freq                                                    3   \n",
       "\n",
       "                                             continuation name_gender  \\\n",
       "count                                                 138         138   \n",
       "unique                                                138           3   \n",
       "top     Late one night, Joanne hears loud crashing noi...        male   \n",
       "freq                                                    1          69   \n",
       "\n",
       "                             notes locus_of_uncertainty  \\\n",
       "count                          138                  138   \n",
       "unique                         128                   45   \n",
       "top     yes flammable combustable       audio equipment   \n",
       "freq                             2                    9   \n",
       "\n",
       "       locus_of_uncertainty_location  \\\n",
       "count                            138   \n",
       "unique                             3   \n",
       "top                   definition_exh   \n",
       "freq                             105   \n",
       "\n",
       "                                               definition person_name  \n",
       "count                                                 138         138  \n",
       "unique                                                 42          46  \n",
       "top     damage to buildings and contents caused by a s...      Joanne  \n",
       "freq                                                    9           3  "
      ]
     },
     "execution_count": 7,
     "metadata": {},
     "output_type": "execute_result"
    }
   ],
   "source": [
    "contracts.describe()"
   ]
  },
  {
   "cell_type": "code",
   "execution_count": 12,
   "id": "a2a0b23c-3452-472b-b5e8-518994b572ea",
   "metadata": {},
   "outputs": [
    {
     "name": "stdout",
     "output_type": "stream",
     "text": [
      "Escape of Water II\n",
      "item                                                               Escape of Water\n",
      "version                                                      unambiguous_uncovered\n",
      "header                           Miranda's home insurance policy includes cover...\n",
      "continuation                     Miranda lives in a two-story house, and she ke...\n",
      "name_gender                                                                 female\n",
      "notes                                                  glass bowl not an appliance\n",
      "locus_of_uncertainty                                                flow of water \n",
      "locus_of_uncertainty_location                                       definition_exh\n",
      "definition                       damage to buildings and contents caused by a s...\n",
      "person_name                                                                Miranda\n",
      "Name: Escape of Water II, dtype: object\n"
     ]
    }
   ],
   "source": [
    "for field, value in contracts.sample().iterrows():\n",
    "    "
   ]
  },
  {
   "cell_type": "code",
   "execution_count": null,
   "id": "66b70fe8-fc44-4b5f-b4eb-09b9adc4d1c4",
   "metadata": {},
   "outputs": [],
   "source": []
  }
 ],
 "metadata": {
  "kernelspec": {
   "display_name": "prej-prompt",
   "language": "python",
   "name": "prej-prompt"
  },
  "language_info": {
   "codemirror_mode": {
    "name": "ipython",
    "version": 3
   },
   "file_extension": ".py",
   "mimetype": "text/x-python",
   "name": "python",
   "nbconvert_exporter": "python",
   "pygments_lexer": "ipython3",
   "version": "3.10.0"
  }
 },
 "nbformat": 4,
 "nbformat_minor": 5
}
