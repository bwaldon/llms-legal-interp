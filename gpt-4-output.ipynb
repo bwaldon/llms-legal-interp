{
 "cells": [
  {
   "cell_type": "code",
   "execution_count": 6,
   "id": "e478166d-0ba7-483e-81a1-dc55a5c8fe96",
   "metadata": {},
   "outputs": [],
   "source": [
    "import numpy as np\n",
    "import pandas as pd\n",
    "import output_processing as op"
   ]
  },
  {
   "cell_type": "markdown",
   "id": "77135457-4530-488d-9a0c-717147b385ce",
   "metadata": {},
   "source": [
    "# GPT-4 output"
   ]
  },
  {
   "cell_type": "code",
   "execution_count": 21,
   "id": "2a2f29c9-5062-4b78-973e-d0ba7f835a06",
   "metadata": {},
   "outputs": [],
   "source": [
    "def read_and_organize_model_results(model_name):\n",
    "    model_results = pd.read_csv(f\"runs/runs-42_07_16/{model_name}-results.csv\")\n",
    "    model_results.replace([0.0], -65504, inplace=True)\n",
    "    model_results = op.organize_distribution(model_results)\n",
    "    model_results[\"model_name\"] = model_name.split(\"/\")[-1]\n",
    "    model_results.loc[model_results[\"Covered\"] == True, \"Judgment\"] = \"Covered\"\n",
    "    model_results.loc[model_results[\"Covered\"] == True, \"Judgment_prob\"] = model_results[\"Covered_prob\"]\n",
    "    model_results.loc[model_results[\"NotCovered\"] == True, \"Judgment\"] = \"NotCovered\"\n",
    "    model_results.loc[model_results[\"NotCovered\"] == True, \"Judgment_prob\"] = model_results[\"NotCovered_prob\"]\n",
    "    return model_results\n",
    "\n",
    "model_results = read_and_organize_model_results(\"openai-gpt-4\")"
   ]
  },
  {
   "cell_type": "code",
   "execution_count": 22,
   "id": "a11c0e0b-fb66-4b4f-a0a5-f25ad087ea04",
   "metadata": {},
   "outputs": [
    {
     "data": {
      "text/html": [
       "<div>\n",
       "<style scoped>\n",
       "    .dataframe tbody tr th:only-of-type {\n",
       "        vertical-align: middle;\n",
       "    }\n",
       "\n",
       "    .dataframe tbody tr th {\n",
       "        vertical-align: top;\n",
       "    }\n",
       "\n",
       "    .dataframe thead th {\n",
       "        text-align: right;\n",
       "    }\n",
       "</style>\n",
       "<table border=\"1\" class=\"dataframe\">\n",
       "  <thead>\n",
       "    <tr style=\"text-align: right;\">\n",
       "      <th></th>\n",
       "      <th>title</th>\n",
       "      <th>prompt_type</th>\n",
       "      <th>prompt</th>\n",
       "      <th>version</th>\n",
       "      <th>output</th>\n",
       "      <th>output_text</th>\n",
       "      <th>YES_probs</th>\n",
       "      <th>Yes_probs</th>\n",
       "      <th>yes_probs</th>\n",
       "      <th>NO_probs</th>\n",
       "      <th>...</th>\n",
       "      <th>Aff_prob</th>\n",
       "      <th>UnAff_prob</th>\n",
       "      <th>Covered_prob</th>\n",
       "      <th>NotCovered_prob</th>\n",
       "      <th>Covered</th>\n",
       "      <th>NotCovered</th>\n",
       "      <th>entropy</th>\n",
       "      <th>model_name</th>\n",
       "      <th>Judgment</th>\n",
       "      <th>Judgment_prob</th>\n",
       "    </tr>\n",
       "  </thead>\n",
       "  <tbody>\n",
       "    <tr>\n",
       "      <th>602</th>\n",
       "      <td>House Removal II</td>\n",
       "      <td>agreement_negation</td>\n",
       "      <td>Harper's insurance covers damage from \"House R...</td>\n",
       "      <td>controversial</td>\n",
       "      <td>No</td>\n",
       "      <td>No</td>\n",
       "      <td>-11.60983</td>\n",
       "      <td>0.110805</td>\n",
       "      <td>0.000008</td>\n",
       "      <td>-11.05197</td>\n",
       "      <td>...</td>\n",
       "      <td>0.000039</td>\n",
       "      <td>0.110805</td>\n",
       "      <td>0.000039</td>\n",
       "      <td>0.110805</td>\n",
       "      <td>False</td>\n",
       "      <td>True</td>\n",
       "      <td>0.348628</td>\n",
       "      <td>openai-gpt-4</td>\n",
       "      <td>NotCovered</td>\n",
       "      <td>0.110805</td>\n",
       "    </tr>\n",
       "  </tbody>\n",
       "</table>\n",
       "<p>1 rows × 25 columns</p>\n",
       "</div>"
      ],
      "text/plain": [
       "                title         prompt_type  \\\n",
       "602  House Removal II  agreement_negation   \n",
       "\n",
       "                                                prompt        version output  \\\n",
       "602  Harper's insurance covers damage from \"House R...  controversial     No   \n",
       "\n",
       "    output_text  YES_probs  Yes_probs  yes_probs  NO_probs  ...  Aff_prob  \\\n",
       "602          No  -11.60983   0.110805   0.000008 -11.05197  ...  0.000039   \n",
       "\n",
       "     UnAff_prob  Covered_prob  NotCovered_prob  Covered  NotCovered   entropy  \\\n",
       "602    0.110805      0.000039         0.110805    False        True  0.348628   \n",
       "\n",
       "       model_name    Judgment  Judgment_prob  \n",
       "602  openai-gpt-4  NotCovered       0.110805  \n",
       "\n",
       "[1 rows x 25 columns]"
      ]
     },
     "execution_count": 22,
     "metadata": {},
     "output_type": "execute_result"
    }
   ],
   "source": [
    "model_results.sample()"
   ]
  },
  {
   "cell_type": "markdown",
   "id": "e9fd6038-760f-4a0e-a5ce-efc0b0828f2e",
   "metadata": {},
   "source": [
    "model_results"
   ]
  },
  {
   "cell_type": "code",
   "execution_count": 23,
   "id": "6887500e-b956-4c43-8d1a-72a9bf80e746",
   "metadata": {},
   "outputs": [
    {
     "data": {
      "text/plain": [
       "(0.0, 0.49906528493464186)"
      ]
     },
     "execution_count": 23,
     "metadata": {},
     "output_type": "execute_result"
    }
   ],
   "source": [
    "model_results.Covered_prob.min(), model_results.Covered_prob.max()"
   ]
  },
  {
   "cell_type": "code",
   "execution_count": 24,
   "id": "2e2235de-8806-453a-b593-4f61d276f2df",
   "metadata": {},
   "outputs": [
    {
     "data": {
      "text/plain": [
       "(0.0, 0.4999736785718604)"
      ]
     },
     "execution_count": 24,
     "metadata": {},
     "output_type": "execute_result"
    }
   ],
   "source": [
    "model_results.NotCovered_prob.min(), model_results.NotCovered_prob.max()"
   ]
  },
  {
   "cell_type": "code",
   "execution_count": null,
   "id": "3738d313-928f-437b-ba18-e2e40cb1ae02",
   "metadata": {},
   "outputs": [],
   "source": []
  }
 ],
 "metadata": {
  "kernelspec": {
   "display_name": "prej-prompt",
   "language": "python",
   "name": "prej-prompt"
  },
  "language_info": {
   "codemirror_mode": {
    "name": "ipython",
    "version": 3
   },
   "file_extension": ".py",
   "mimetype": "text/x-python",
   "name": "python",
   "nbconvert_exporter": "python",
   "pygments_lexer": "ipython3",
   "version": "3.10.18"
  }
 },
 "nbformat": 4,
 "nbformat_minor": 5
}
