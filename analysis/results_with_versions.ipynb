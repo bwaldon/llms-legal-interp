{
 "cells": [
  {
   "cell_type": "code",
   "execution_count": 1,
   "id": "f720b4ec-0a5b-4e32-82eb-d12d3355de08",
   "metadata": {},
   "outputs": [],
   "source": [
    "import pandas as pd"
   ]
  },
  {
   "cell_type": "code",
   "execution_count": 2,
   "id": "0346421e-ad5d-4574-90f7-5746e2e9b497",
   "metadata": {},
   "outputs": [],
   "source": [
    "results = pd.read_csv(\"../runs_05_14/meta-llama/Llama-3.2-1B-results.csv\")"
   ]
  },
  {
   "cell_type": "code",
   "execution_count": 25,
   "id": "2e3381d0-b5d6-47ce-b5cb-32d8e3f6e755",
   "metadata": {},
   "outputs": [],
   "source": [
    "def convert_version_to_target(prompt_type, version):\n",
    "    match prompt_type:\n",
    "        case \"yes_or_no\" | \"no_or_yes\":\n",
    "            match version:\n",
    "                case \"unambiguous_covered\": \n",
    "                    return \"Yes\"\n",
    "                case \"unambiguous_uncovered\":\n",
    "                    return \"No\"\n",
    "                case _:\n",
    "                    return None\n",
    "        case _:\n",
    "            return None\n",
    "    "
   ]
  },
  {
   "cell_type": "code",
   "execution_count": 27,
   "id": "1fda3224-e305-4534-a4e7-26ccc833b8b5",
   "metadata": {},
   "outputs": [],
   "source": [
    "results[\"target\"] = results[[\"prompt_type\", \"version\"]].apply(\n",
    "    lambda x: convert_version_to_target(x[\"prompt_type\"], x[\"version\"]), axis=1)"
   ]
  },
  {
   "cell_type": "code",
   "execution_count": 45,
   "id": "074ec328-281b-44a7-a0e4-70406b1b1aea",
   "metadata": {},
   "outputs": [
    {
     "data": {
      "text/plain": [
       "(276, 8)"
      ]
     },
     "execution_count": 45,
     "metadata": {},
     "output_type": "execute_result"
    }
   ],
   "source": [
    "results[results.prompt_type.str.match(\"yes_or_no\")|results.prompt_type.str.match(\"no_or_yes\")].shape"
   ]
  },
  {
   "cell_type": "code",
   "execution_count": 47,
   "id": "fb0be79e-4169-4f48-8dc1-ebabdb8be222",
   "metadata": {},
   "outputs": [
    {
     "data": {
      "text/plain": [
       "output\n",
       "Yes         791\n",
       "A           200\n",
       "C            73\n",
       "Yes!         34\n",
       "Penelope      3\n",
       "Aneesh        3\n",
       "Name: count, dtype: int64"
      ]
     },
     "execution_count": 47,
     "metadata": {},
     "output_type": "execute_result"
    }
   ],
   "source": [
    "results.output.value_counts()"
   ]
  },
  {
   "cell_type": "code",
   "execution_count": null,
   "id": "1a5c501a-9463-456c-a5e2-dea6d03257e4",
   "metadata": {},
   "outputs": [],
   "source": []
  }
 ],
 "metadata": {
  "kernelspec": {
   "display_name": "prej-prompt",
   "language": "python",
   "name": "prej-prompt"
  },
  "language_info": {
   "codemirror_mode": {
    "name": "ipython",
    "version": 3
   },
   "file_extension": ".py",
   "mimetype": "text/x-python",
   "name": "python",
   "nbconvert_exporter": "python",
   "pygments_lexer": "ipython3",
   "version": "3.10.0"
  }
 },
 "nbformat": 4,
 "nbformat_minor": 5
}
