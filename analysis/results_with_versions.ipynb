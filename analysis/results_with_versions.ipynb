{
 "cells": [
  {
   "cell_type": "code",
   "execution_count": 62,
   "id": "f720b4ec-0a5b-4e32-82eb-d12d3355de08",
   "metadata": {},
   "outputs": [],
   "source": [
    "import pandas as pd\n",
    "import numpy as np"
   ]
  },
  {
   "cell_type": "code",
   "execution_count": 95,
   "id": "b39b6979-58ec-4a18-a203-d93e606928b9",
   "metadata": {},
   "outputs": [],
   "source": [
    "prompt_types = [\"yes_or_no\", \"no_or_yes\", \"agreement\", \"agreement_negation\", \"disagreement\", \"disagreement_negation\", \"options\", \"options_flipped\"]"
   ]
  },
  {
   "cell_type": "code",
   "execution_count": 96,
   "id": "0346421e-ad5d-4574-90f7-5746e2e9b497",
   "metadata": {},
   "outputs": [],
   "source": [
    "results = pd.read_csv(\"../runs_05_14/meta-llama/Llama-3.2-1B-results.csv\")"
   ]
  },
  {
   "cell_type": "code",
   "execution_count": 97,
   "id": "2e3381d0-b5d6-47ce-b5cb-32d8e3f6e755",
   "metadata": {},
   "outputs": [],
   "source": [
    "def convert_version_to_target(prompt_type, version):\n",
    "    match prompt_type:\n",
    "        case \"yes_or_no\" | \"no_or_yes\":\n",
    "            match version:\n",
    "                case \"unambiguous_covered\": \n",
    "                    return \"Yes\"\n",
    "                case \"unambiguous_uncovered\":\n",
    "                    return \"No\"\n",
    "                case _:\n",
    "                    return None\n",
    "        case \"agreement\"|\"disagreement_negation\":\n",
    "            match version:\n",
    "                case \"unambiguous_covered\": \n",
    "                    return \"Yes\"\n",
    "                case \"unambiguous_uncovered\":\n",
    "                    return \"No\"\n",
    "                case _:\n",
    "                    return None\n",
    "        case \"agreement_negation\"|\"disagreement\": \n",
    "            match version:\n",
    "                case \"unambiguous_covered\": \n",
    "                    return \"No\"\n",
    "                case \"unambiguous_uncovered\":\n",
    "                    return \"Yes\"\n",
    "                case _:\n",
    "                    return None\n",
    "\n",
    "        case \"options\":\n",
    "            match version:\n",
    "                case \"unambiguous_covered\": \n",
    "                    return \"A\"\n",
    "                case \"unambiguous_uncovered\":\n",
    "                    return \"B\"\n",
    "                case _:\n",
    "                    return None\n",
    "\n",
    "        case \"options_flipped\":\n",
    "            match version:\n",
    "                case \"unambiguous_covered\": \n",
    "                    return \"B\"\n",
    "                case \"unambiguous_uncovered\":\n",
    "                    return \"A\"\n",
    "                case _:\n",
    "                    return None        \n",
    "        case _:\n",
    "            return None\n",
    "    "
   ]
  },
  {
   "cell_type": "code",
   "execution_count": 98,
   "id": "1fda3224-e305-4534-a4e7-26ccc833b8b5",
   "metadata": {},
   "outputs": [],
   "source": [
    "results[\"target\"] = results[[\"prompt_type\", \"version\"]].apply(\n",
    "    lambda x: convert_version_to_target(x[\"prompt_type\"], x[\"version\"]), axis=1)"
   ]
  },
  {
   "cell_type": "code",
   "execution_count": 99,
   "id": "1a5c501a-9463-456c-a5e2-dea6d03257e4",
   "metadata": {},
   "outputs": [
    {
     "data": {
      "text/plain": [
       "np.int64(736)"
      ]
     },
     "execution_count": 99,
     "metadata": {},
     "output_type": "execute_result"
    }
   ],
   "source": [
    "np.sum(results[\"version\"] != \"controversial\")"
   ]
  },
  {
   "cell_type": "code",
   "execution_count": 100,
   "id": "c8154830-0a29-4c3c-8cd8-4e8a16a4fdfc",
   "metadata": {},
   "outputs": [],
   "source": [
    "results_non_controversial = results[results[\"version\"] != \"controversial\"]"
   ]
  },
  {
   "cell_type": "code",
   "execution_count": 112,
   "id": "69916aca-cd3e-479d-b2b2-92b411a95f8c",
   "metadata": {},
   "outputs": [],
   "source": [
    "def prompt_type_correct_incorrect(prompt_type, results_non_controversial):\n",
    "    pt_results = results_non_controversial[results_non_controversial[\"prompt_type\"] == prompt_type]\n",
    "    return np.sum(pt_results[\"target\"] == pt_results[\"output\"]), np.sum(pt_results[\"target\"] != pt_results[\"output\"]), pt_results.output.value_counts()\n",
    "    "
   ]
  },
  {
   "cell_type": "code",
   "execution_count": 116,
   "id": "fa4b1188-8689-485b-997a-33aafb40a9b1",
   "metadata": {},
   "outputs": [
    {
     "name": "stdout",
     "output_type": "stream",
     "text": [
      "yes_or_no 35 57 output\n",
      "Yes     69\n",
      "Yes!    23\n",
      "Name: count, dtype: int64\n",
      "no_or_yes 45 47 output\n",
      "Yes         90\n",
      "Penelope     2\n",
      "Name: count, dtype: int64\n",
      "agreement 46 46 output\n",
      "Yes    92\n",
      "Name: count, dtype: int64\n",
      "agreement_negation 46 46 output\n",
      "Yes    92\n",
      "Name: count, dtype: int64\n",
      "disagreement 46 46 output\n",
      "Yes    92\n",
      "Name: count, dtype: int64\n",
      "disagreement_negation 46 46 output\n",
      "Yes    92\n",
      "Name: count, dtype: int64\n",
      "options 45 47 output\n",
      "A         90\n",
      "Aneesh     2\n",
      "Name: count, dtype: int64\n",
      "options_flipped 21 71 output\n",
      "C    51\n",
      "A    41\n",
      "Name: count, dtype: int64\n"
     ]
    }
   ],
   "source": [
    "for prompt_type in prompt_types:\n",
    "    n_correct, n_incorrect, value_counts = prompt_type_correct_incorrect(prompt_type, results_non_controversial)\n",
    "    print(prompt_type, n_correct,  n_incorrect, value_counts)"
   ]
  },
  {
   "cell_type": "code",
   "execution_count": 110,
   "id": "c3c235a0-0319-4c3b-83b6-d03dcaa49440",
   "metadata": {},
   "outputs": [
    {
     "data": {
      "text/plain": [
       "output\n",
       "Yes         527\n",
       "A           131\n",
       "C            51\n",
       "Yes!         23\n",
       "Penelope      2\n",
       "Aneesh        2\n",
       "Name: count, dtype: int64"
      ]
     },
     "execution_count": 110,
     "metadata": {},
     "output_type": "execute_result"
    }
   ],
   "source": [
    "results_non_controversial.output.value_counts()"
   ]
  },
  {
   "cell_type": "code",
   "execution_count": 111,
   "id": "a7b1ef34-dd3d-41cb-b9cd-cb2edd0d032a",
   "metadata": {},
   "outputs": [],
   "source": [
    "results_controversial = results[results[\"version\"] == \"controversial\"]"
   ]
  },
  {
   "cell_type": "code",
   "execution_count": 117,
   "id": "23ba44b7-122e-491a-8c85-de8ccede8406",
   "metadata": {},
   "outputs": [
    {
     "name": "stdout",
     "output_type": "stream",
     "text": [
      "yes_or_no 0 46 output\n",
      "Yes     34\n",
      "Yes!    12\n",
      "Name: count, dtype: int64\n",
      "no_or_yes 0 46 output\n",
      "Yes         45\n",
      "Penelope     1\n",
      "Name: count, dtype: int64\n",
      "agreement 0 46 output\n",
      "Yes    46\n",
      "Name: count, dtype: int64\n",
      "agreement_negation 0 46 output\n",
      "Yes    46\n",
      "Name: count, dtype: int64\n",
      "disagreement 0 46 output\n",
      "Yes    46\n",
      "Name: count, dtype: int64\n",
      "disagreement_negation 0 46 output\n",
      "Yes    46\n",
      "Name: count, dtype: int64\n",
      "options 0 46 output\n",
      "A         45\n",
      "Aneesh     1\n",
      "Name: count, dtype: int64\n",
      "options_flipped 0 46 output\n",
      "A    24\n",
      "C    22\n",
      "Name: count, dtype: int64\n"
     ]
    }
   ],
   "source": [
    "for prompt_type in prompt_types:\n",
    "    n_correct, n_incorrect, value_counts = prompt_type_correct_incorrect(prompt_type, results_controversial)\n",
    "    print(prompt_type, n_correct,  n_incorrect, value_counts)"
   ]
  }
 ],
 "metadata": {
  "kernelspec": {
   "display_name": "prej-prompt",
   "language": "python",
   "name": "prej-prompt"
  },
  "language_info": {
   "codemirror_mode": {
    "name": "ipython",
    "version": 3
   },
   "file_extension": ".py",
   "mimetype": "text/x-python",
   "name": "python",
   "nbconvert_exporter": "python",
   "pygments_lexer": "ipython3",
   "version": "3.10.0"
  }
 },
 "nbformat": 4,
 "nbformat_minor": 5
}
