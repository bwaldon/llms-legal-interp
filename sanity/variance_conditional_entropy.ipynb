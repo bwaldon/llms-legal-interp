{
 "cells": [
  {
   "cell_type": "markdown",
   "id": "92d9f6c6-1c7f-4714-a9d0-2ec255ca43e8",
   "metadata": {},
   "source": [
    "# Prompt Types Condition Entropy"
   ]
  },
  {
   "cell_type": "code",
   "execution_count": 1,
   "id": "dc7b8e80-0fe5-4805-9cca-3858451b4662",
   "metadata": {},
   "outputs": [
    {
     "name": "stderr",
     "output_type": "stream",
     "text": [
      "/Users/ab-purushothama-macbook/.conda/envs/prej-prompt/lib/python3.10/site-packages/tqdm/auto.py:21: TqdmWarning: IProgress not found. Please update jupyter and ipywidgets. See https://ipywidgets.readthedocs.io/en/stable/user_install.html\n",
      "  from .autonotebook import tqdm as notebook_tqdm\n"
     ]
    }
   ],
   "source": [
    "import pandas as pd\n",
    "import numpy as np\n",
    "import matplotlib.pyplot as plt\n",
    "import seaborn as sns\n",
    "import scipy as sp\n",
    "import output_processing as op\n",
    "from functools import reduce\n",
    "from prompts import prompt_types"
   ]
  },
  {
   "cell_type": "code",
   "execution_count": 2,
   "id": "417a34c9-9541-4072-ac01-e6408f58bfc6",
   "metadata": {},
   "outputs": [
    {
     "data": {
      "text/plain": [
       "(12420, 17)"
      ]
     },
     "execution_count": 2,
     "metadata": {},
     "output_type": "execute_result"
    }
   ],
   "source": [
    "models= [\n",
    "   \"meta-llama/Llama-3.2-1B\",\n",
    "    \"meta-llama/Llama-3.2-1B-Instruct\",\n",
    "    \"meta-llama/Llama-3.2-3B\",\n",
    "    \"meta-llama/Llama-3.2-3B-Instruct\",\n",
    "    \"meta-llama/Llama-3.1-8B\",\n",
    "    \"meta-llama/Llama-3.1-8B-Instruct\",\n",
    "    \"gpt2-large\",\n",
    "    # \"allenai/OLMo-2-0425-1B\",\n",
    "    # \"allenai/OLMo-2-0425-1B-Instruct\",\n",
    "    # \"allenai/OLMo-2-1124-7B\",\n",
    "    # \"allenai/OLMo-2-1124-7B-Instruct\",\n",
    "    \"ministral/Ministral-3b-instruct\",\n",
    "    \"ministral/Ministral-4b-instruct\",\n",
    "    \"mistralai/Ministral-8B-Instruct-2410\",\n",
    "    # \"google/gemma-3-1b-it\",\n",
    "    # \"google/gemma-3-4b-it\",\n",
    "    # \"google/gemma-7b-it\"\n",
    "]\n",
    "def read_and_organize_model_results(model_name):\n",
    "    model_results = pd.read_csv(f\"runs/runs-1001-05_19/{model_name}-results.csv\")\n",
    "    model_results.replace([0.0], -65504, inplace=True)\n",
    "    model_results = op.organize_distribution(model_results)\n",
    "    model_results[\"model_name\"] = model_name.split(\"/\")[-1]\n",
    "    return model_results\n",
    "    \n",
    "combined_results = [read_and_organize_model_results(model_name) for model_name in models]\n",
    "combined_results = pd.concat(combined_results).reset_index()\n",
    "combined_results.shape"
   ]
  },
  {
   "cell_type": "code",
   "execution_count": 3,
   "id": "d4c34130-1278-46e9-93de-faab8ff0657c",
   "metadata": {},
   "outputs": [
    {
     "data": {
      "text/plain": [
       "B_probs    0\n",
       "dtype: int64"
      ]
     },
     "execution_count": 3,
     "metadata": {},
     "output_type": "execute_result"
    }
   ],
   "source": [
    "np.sum(combined_results[[\"B_probs\"]] < 0, axis=0)"
   ]
  },
  {
   "cell_type": "markdown",
   "id": "449c9a7b-03b6-45d6-a3f7-f00f0d1dba7b",
   "metadata": {},
   "source": [
    "# We have sample level entropy"
   ]
  },
  {
   "cell_type": "code",
   "execution_count": 4,
   "id": "04920482-5331-4ac0-bedb-c2d190b49898",
   "metadata": {},
   "outputs": [
    {
     "data": {
      "text/html": [
       "<div>\n",
       "<style scoped>\n",
       "    .dataframe tbody tr th:only-of-type {\n",
       "        vertical-align: middle;\n",
       "    }\n",
       "\n",
       "    .dataframe tbody tr th {\n",
       "        vertical-align: top;\n",
       "    }\n",
       "\n",
       "    .dataframe thead th {\n",
       "        text-align: right;\n",
       "    }\n",
       "</style>\n",
       "<table border=\"1\" class=\"dataframe\">\n",
       "  <thead>\n",
       "    <tr style=\"text-align: right;\">\n",
       "      <th></th>\n",
       "      <th>title</th>\n",
       "      <th>model_name</th>\n",
       "      <th>prompt_type</th>\n",
       "      <th>entropy</th>\n",
       "    </tr>\n",
       "  </thead>\n",
       "  <tbody>\n",
       "    <tr>\n",
       "      <th>9426</th>\n",
       "      <td>Hot Work II</td>\n",
       "      <td>Ministral-3b-instruct</td>\n",
       "      <td>disagreement</td>\n",
       "      <td>0.452462</td>\n",
       "    </tr>\n",
       "  </tbody>\n",
       "</table>\n",
       "</div>"
      ],
      "text/plain": [
       "            title             model_name   prompt_type   entropy\n",
       "9426  Hot Work II  Ministral-3b-instruct  disagreement  0.452462"
      ]
     },
     "execution_count": 4,
     "metadata": {},
     "output_type": "execute_result"
    }
   ],
   "source": [
    "combined_results.sample()[[\"title\", \"model_name\", \"prompt_type\", \"entropy\"]]"
   ]
  },
  {
   "cell_type": "markdown",
   "id": "3438cf62-13c9-4b0f-9bff-e7b6bb9afc2a",
   "metadata": {},
   "source": [
    "# Conditional Entropy\n",
    "\n",
    "<https://datascience.stackexchange.com/questions/58565/conditional-entropy-calculation-in-python-hyx>\n",
    "\n",
    "<https://www.cs.cmu.edu/~venkatg/teaching/ITCS-spr2013/notes/lect-jan17.pdf>"
   ]
  },
  {
   "cell_type": "code",
   "execution_count": 5,
   "id": "254e2d95-4dbe-4b8f-ab8a-dfc5fdcdc83f",
   "metadata": {},
   "outputs": [],
   "source": [
    "relative_measures = op.calculate_relative_measures(combined_results)"
   ]
  },
  {
   "cell_type": "code",
   "execution_count": 6,
   "id": "c78f5a19-8f05-4fed-831e-ab5cfbaee9ff",
   "metadata": {},
   "outputs": [
    {
     "data": {
      "text/plain": [
       "(11040, 6)"
      ]
     },
     "execution_count": 6,
     "metadata": {},
     "output_type": "execute_result"
    }
   ],
   "source": [
    "relative_measures.shape"
   ]
  },
  {
   "cell_type": "code",
   "execution_count": 7,
   "id": "f8ba74bd-b27b-436b-add5-120598b28761",
   "metadata": {},
   "outputs": [
    {
     "name": "stdout",
     "output_type": "stream",
     "text": [
      "[[0.01435467 0.01621104 0.09365418]\n",
      " [0.00974624 0.01100664 0.06358739]\n",
      " [0.09145765 0.10328508 0.59669711]]\n",
      "(1, 3) (1, 3) 0.6407506743327896\n"
     ]
    }
   ],
   "source": [
    "for group, df in combined_results.groupby(['title', 'version', 'model_name'], sort=False):\n",
    "    control_mask = df.prompt_type == \"yes_or_no\"\n",
    "    control_probs = df[[\"Aff_prob\", \"UnAff_prob\", \"Other_prob\"]][control_mask]\n",
    "    for variation in prompt_types[1:]:\n",
    "        variation_mask = df.prompt_type == variation\n",
    "        variation_probs = df[[\"Aff_prob\", \"UnAff_prob\", \"Other_prob\"]][variation_mask]\n",
    "        print(np.outer(control_probs.values, variation_probs.values))\n",
    "        print(control_probs.shape, variation_probs.shape, op.conditional_entropy(control_probs.values, variation_probs.values))\n",
    "        break\n",
    "    break\n",
    "            "
   ]
  },
  {
   "cell_type": "code",
   "execution_count": 9,
   "id": "55dd3c2e-9125-4dfb-902b-9f2dff62c243",
   "metadata": {},
   "outputs": [
    {
     "data": {
      "text/html": [
       "<div>\n",
       "<style scoped>\n",
       "    .dataframe tbody tr th:only-of-type {\n",
       "        vertical-align: middle;\n",
       "    }\n",
       "\n",
       "    .dataframe tbody tr th {\n",
       "        vertical-align: top;\n",
       "    }\n",
       "\n",
       "    .dataframe thead th {\n",
       "        text-align: right;\n",
       "    }\n",
       "</style>\n",
       "<table border=\"1\" class=\"dataframe\">\n",
       "  <thead>\n",
       "    <tr style=\"text-align: right;\">\n",
       "      <th></th>\n",
       "      <th>title</th>\n",
       "      <th>version</th>\n",
       "      <th>prompt_type</th>\n",
       "      <th>js_dist</th>\n",
       "      <th>more_than_reversal</th>\n",
       "      <th>cond_entropy</th>\n",
       "    </tr>\n",
       "  </thead>\n",
       "  <tbody>\n",
       "    <tr>\n",
       "      <th>2086</th>\n",
       "      <td>Vehicle Fire III</td>\n",
       "      <td>controversial</td>\n",
       "      <td>options</td>\n",
       "      <td>0.0</td>\n",
       "      <td>0.0</td>\n",
       "      <td>0.275967</td>\n",
       "    </tr>\n",
       "  </tbody>\n",
       "</table>\n",
       "</div>"
      ],
      "text/plain": [
       "                 title        version prompt_type  js_dist  \\\n",
       "2086  Vehicle Fire III  controversial     options      0.0   \n",
       "\n",
       "      more_than_reversal  cond_entropy  \n",
       "2086                 0.0      0.275967  "
      ]
     },
     "execution_count": 9,
     "metadata": {},
     "output_type": "execute_result"
    }
   ],
   "source": [
    "relative_measures.sample()"
   ]
  },
  {
   "cell_type": "code",
   "execution_count": null,
   "id": "5ebe8172-9051-4460-b0a2-b0bed6508cef",
   "metadata": {},
   "outputs": [],
   "source": []
  }
 ],
 "metadata": {
  "kernelspec": {
   "display_name": "prej-prompt",
   "language": "python",
   "name": "prej-prompt"
  },
  "language_info": {
   "codemirror_mode": {
    "name": "ipython",
    "version": 3
   },
   "file_extension": ".py",
   "mimetype": "text/x-python",
   "name": "python",
   "nbconvert_exporter": "python",
   "pygments_lexer": "ipython3",
   "version": "3.10.0"
  }
 },
 "nbformat": 4,
 "nbformat_minor": 5
}
